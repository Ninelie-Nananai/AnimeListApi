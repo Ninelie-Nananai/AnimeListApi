{
  "cells": [
    {
      "cell_type": "markdown",
      "metadata": {
        "id": "GzJHb_C0bTXl"
      },
      "source": [
        "# Import Libraries "
      ]
    },
    {
      "cell_type": "code",
      "execution_count": null,
      "metadata": {
        "id": "cbzSJWAvkYr2"
      },
      "outputs": [],
      "source": [
        "# !pip install ipython-autotime\n",
        "# %load_ext autotime"
      ]
    },
    {
      "cell_type": "code",
      "execution_count": 1,
      "metadata": {
        "id": "91HTPjo5YtEq"
      },
      "outputs": [],
      "source": [
        "import pandas as pd \n",
        "import numpy as np\n",
        "import time\n",
        "import matplotlib.pyplot as plt\n",
        "import seaborn as sns\n",
        "\n",
        "from matplotlib.colors import ListedColormap\n",
        "from warnings import filterwarnings \n",
        "from sklearn.feature_extraction.text import TfidfVectorizer\n",
        "from sklearn.feature_extraction.text import CountVectorizer\n",
        "from sklearn.metrics.pairwise import cosine_similarity, linear_kernel\n",
        "\n",
        "pd.options.display.max_columns = None\n",
        "pd.options.display.max_rows = None\n",
        "# filterwarnings('ignore')\n"
      ]
    },
    {
      "cell_type": "markdown",
      "metadata": {
        "id": "llTPGNkNbTXq"
      },
      "source": [
        "# Import dataset"
      ]
    },
    {
      "cell_type": "code",
      "execution_count": 2,
      "metadata": {
        "id": "mrNvbyHJbTXq"
      },
      "outputs": [],
      "source": [
        "# aniList = pd.read_csv(io.BytesIO(uploaded['AnimeList.csv']))\n",
        "url = 'https://raw.githubusercontent.com/Ninelie-Nananai/AnimeListApi/main/AnimeList.csv'\n",
        "aniList = pd.read_csv(url)\n",
        "data = aniList.copy()\n",
        "data2 = aniList.copy()\n",
        "\n",
        "# Feature นำเข้า  *****\n"
      ]
    },
    {
      "cell_type": "code",
      "execution_count": null,
      "metadata": {
        "colab": {
          "base_uri": "https://localhost:8080/",
          "height": 660
        },
        "id": "F9NuzkROZW9N",
        "outputId": "54f74b94-3464-4ae8-cdfc-98ca041c8d10"
      },
      "outputs": [],
      "source": [
        "aniList.head()"
      ]
    },
    {
      "cell_type": "code",
      "execution_count": null,
      "metadata": {
        "colab": {
          "base_uri": "https://localhost:8080/"
        },
        "id": "UtHleYKJiiz8",
        "outputId": "90d1f1aa-4ff3-4f59-f898-6052f6a990c1"
      },
      "outputs": [],
      "source": [
        "aniList.columns"
      ]
    },
    {
      "cell_type": "markdown",
      "metadata": {
        "id": "KLngqXhybTXr"
      },
      "source": [
        "# Observe data"
      ]
    },
    {
      "cell_type": "markdown",
      "metadata": {
        "id": "vXdcWeXtCoOg"
      },
      "source": [
        "ตรวจดูข้อมูลว่ามีกี่ column Type อะไรบ้าง ก่อนนำไปเข้า model"
      ]
    },
    {
      "cell_type": "code",
      "execution_count": null,
      "metadata": {
        "colab": {
          "base_uri": "https://localhost:8080/"
        },
        "id": "ESSA__O2bTXr",
        "outputId": "c25c981e-d14c-441a-aeab-01ebbac0d08a"
      },
      "outputs": [],
      "source": [
        "aniList.info()"
      ]
    },
    {
      "cell_type": "code",
      "execution_count": null,
      "metadata": {
        "colab": {
          "base_uri": "https://localhost:8080/"
        },
        "id": "xWbxU291bTXt",
        "outputId": "c2b81cc2-5ab5-48ce-d1fa-62047cbcb1aa"
      },
      "outputs": [],
      "source": [
        "aniList.isna().sum()"
      ]
    },
    {
      "cell_type": "code",
      "execution_count": null,
      "metadata": {
        "colab": {
          "base_uri": "https://localhost:8080/"
        },
        "id": "MJHiHZItbTXt",
        "outputId": "80de1f3f-fef3-48b3-c4a1-83c51c5d9ac1"
      },
      "outputs": [],
      "source": [
        "(aniList.isna().sum()/aniList.shape[0])\n",
        "\n",
        "# มีข้อมูลที่เป็น null ไม่ถึง 1%"
      ]
    },
    {
      "cell_type": "markdown",
      "metadata": {
        "id": "QU-9PV3D5NOV"
      },
      "source": [
        "# EDA"
      ]
    },
    {
      "cell_type": "code",
      "execution_count": null,
      "metadata": {
        "colab": {
          "base_uri": "https://localhost:8080/",
          "height": 605
        },
        "id": "QZtUC2Tg_hjI",
        "outputId": "caeff16d-c746-409c-8437-b3e7a87fbcb7"
      },
      "outputs": [],
      "source": [
        "# score ใน dataset นี้\n",
        "\n",
        "plt.figure(figsize=(10,10))\n",
        "sns.distplot(aniList['score']);"
      ]
    },
    {
      "cell_type": "markdown",
      "metadata": {
        "id": "u7UhitZ__jsM"
      },
      "source": [
        "คะแนนที่เยอะที่สุดจะอยู่ระหว่าง 5-7 คะแนน\n",
        "น้อยสุด 1-3 และ 9-10\n",
        "\n",
        "0 คะแนนมีค่อนข้างเยอะเพราะใน dataset นี้รวม anime ที่ไม่ได้เป็นทางการเข้าไปด้วย (doujin, มังงะจากเว็ป, ทางบ้านเขียนเอง)"
      ]
    },
    {
      "cell_type": "code",
      "execution_count": null,
      "metadata": {
        "colab": {
          "base_uri": "https://localhost:8080/",
          "height": 670
        },
        "id": "8H1NxSbn_o8l",
        "outputId": "34758bae-383e-48ee-e943-61a41354e012"
      },
      "outputs": [],
      "source": [
        "# จำนวนของ source (ที่มา) ทั้งหมดที่มีใน dataset\n",
        "\n",
        "plt.figure(figsize=(10,10))\n",
        "plt.xticks(rotation=90)\n",
        "sns.histplot(aniList, x='source');"
      ]
    },
    {
      "cell_type": "markdown",
      "metadata": {
        "id": "NoV5E_oLCoOi"
      },
      "source": [
        "### อันดับ 3 Source ที่เยอะที่สุด\n",
        "1. อันดับ 1 Unknown (เป็นอนิเมะที่ไม่เป็นทางการ ประเภท Doujin ที่ทำขึ้นมาเองไม่ได้ผ่านบริษัท หรือ Indie)\n",
        "2. อันดับ 2 Original (สร้างโดยบริษัทผลิตอนิเมะเอง ไม่ได้สร้างหรืออ้างอิงจาก Manga หรือ Novel)\n",
        "3. อันดับ 3 Manga (สร้างจาก Manga)\n",
        "\n",
        "อันดับทุดท้าย(น้อยสุด) Radio = 9 , และ Digital Manga = 10"
      ]
    },
    {
      "cell_type": "markdown",
      "metadata": {
        "id": "uJCFXFdICoOi"
      },
      "source": [
        "## Unknown คืออะไร"
      ]
    },
    {
      "cell_type": "code",
      "execution_count": null,
      "metadata": {
        "colab": {
          "base_uri": "https://localhost:8080/"
        },
        "id": "k6b8cUtrCoOi",
        "outputId": "2d7da0a1-87ba-41f2-91d3-fdf61eb80920"
      },
      "outputs": [],
      "source": [
        "percentUnknown = (aniList['source'].loc[aniList['source'] == 'Original'].count() / aniList['source'].count()) * 100\n",
        "percentUnknown"
      ]
    },
    {
      "cell_type": "markdown",
      "metadata": {},
      "source": [
        "### Unknown เมื่อคิดเป็นเปอร์เข็นต์จากทั้งหมด 23.26%"
      ]
    },
    {
      "cell_type": "code",
      "execution_count": null,
      "metadata": {
        "colab": {
          "base_uri": "https://localhost:8080/",
          "height": 363
        },
        "id": "sUNw_1p5CoOj",
        "outputId": "f543dd95-41de-4efa-f98a-dfe0bb662f61"
      },
      "outputs": [],
      "source": [
        "WhatIsUnknownType = aniList.loc[aniList['type'] == 'Unknown']\n",
        "WhatIsUnknownType[['title', 'type', 'genre', 'studio', 'producer', 'source']].head(10)"
      ]
    },
    {
      "cell_type": "markdown",
      "metadata": {
        "id": "1PM5iQVyCoOj"
      },
      "source": [
        "### Unknown เป็นอนิเมะที่ไม่เป็นทางการ เป็น Doujin ที่ทำขึ้นมาเองไม่ได้ผ่านบริษัท เช่น \n",
        "* Indie \n",
        "* ทางบ้านเขียนขึ้นมาเอง \n",
        "* Manga ตามเพจ \n",
        "* Manga ตาม Website\n",
        "\n"
      ]
    },
    {
      "cell_type": "markdown",
      "metadata": {
        "id": "K5ZWuDUjCoOk"
      },
      "source": [
        "### จำนวนของ type ทั้งหมดที่มีใน dataset"
      ]
    },
    {
      "cell_type": "code",
      "execution_count": null,
      "metadata": {
        "colab": {
          "base_uri": "https://localhost:8080/",
          "height": 605
        },
        "id": "p-ho7B71_vff",
        "outputId": "5c330d20-5744-4d81-e706-4d612799df8f"
      },
      "outputs": [],
      "source": [
        "plt.figure(figsize=(10,10))\n",
        "sns.histplot(aniList, x='type');"
      ]
    },
    {
      "cell_type": "markdown",
      "metadata": {
        "id": "MZIGF5MU_wf-"
      },
      "source": [
        "### 3 อันดับ Type ที่เยอะที่สุด\n",
        "1. TV (เพราะอนิเมะในญี่ปุ่นฉายผ่าน TV เป็นหลัก แล้วค่อยนำออกมาขายผ่าน DVD หรือ Blu-ray)\n",
        "2. OVA (ตอนพิเศษของอนิเมะที่ส่วนมากไม่เกี่ยวกับเนื้อเรื่อง)\n",
        "3. Movie (ฉายในโรงหนัง)\n",
        "-\n",
        "4. Unknown น้อยที่สุด"
      ]
    },
    {
      "cell_type": "code",
      "execution_count": null,
      "metadata": {
        "id": "xCmmNLNKCoOk"
      },
      "outputs": [],
      "source": [
        "dictGenre = {}\n",
        "tmpGenreList = []\n",
        "\n",
        "for i in aniList[\"genre\"]:\n",
        "    # print(str(i))\n",
        "    x = str(i).split(\", \")\n",
        "    # print(x)\n",
        "    for n in x:\n",
        "        # if n not in tmpGenreList:\n",
        "        tmpGenreList.append(n)\n",
        "\n",
        "\n",
        "for x in tmpGenreList:\n",
        "    if x in dictGenre.keys():\n",
        "        dictGenre[x] = int(dictGenre[x])+1\n",
        "    else:\n",
        "        dictGenre[x] = 1\n",
        "        \n",
        "dictGenre   "
      ]
    },
    {
      "cell_type": "code",
      "execution_count": null,
      "metadata": {
        "colab": {
          "base_uri": "https://localhost:8080/",
          "height": 406
        },
        "id": "dcCDxejFCoOl",
        "outputId": "1597ffe7-61e7-4b4d-85dd-d7835faf9cb3"
      },
      "outputs": [],
      "source": [
        "# newGenre = pd.DataFrame(data=dictGenre.keys(),columns=['genre'])\n",
        "# newGenre = pd.DataFrame(data=dictGenre.values(),columns=['total_genre'])\n",
        "\n",
        "newGenre = pd.DataFrame({ 'genre': dictGenre.keys(), 'total_genre': dictGenre.values() })\n",
        "\n",
        "plt.figure(figsize=(10,10))\n",
        "sns.barplot(newGenre['total_genre'], newGenre['genre'])\n",
        "plt.title('Genre')\n",
        "plt.xlabel('Total')\n",
        "plt.ylabel('Name')\n",
        "plt.show()"
      ]
    },
    {
      "cell_type": "markdown",
      "metadata": {
        "id": "TGdzXsD_CoOl"
      },
      "source": [
        "### 3 อันดับ Genre ที่เยอะที่สุด\n",
        "1. Comedy\n",
        "2. Action\n",
        "3. Fantasy\n",
        "\n",
        "อันดับสุดท้าย น้อยสุด Yaoi = 39 , และ Yuri = 41"
      ]
    },
    {
      "cell_type": "code",
      "execution_count": null,
      "metadata": {
        "colab": {
          "base_uri": "https://localhost:8080/",
          "height": 1000
        },
        "id": "7ESzVd0_CoOl",
        "outputId": "07fcc8f5-be44-4f03-9d43-678d4dedd5a5"
      },
      "outputs": [],
      "source": [
        "newGenre.sort_values(\"total_genre\", ascending=True).head(5)"
      ]
    },
    {
      "cell_type": "markdown",
      "metadata": {},
      "source": [
        "## 10 อันดับอนิเมะ นับจาก score ที่มีใน dataset"
      ]
    },
    {
      "cell_type": "code",
      "execution_count": null,
      "metadata": {
        "colab": {
          "base_uri": "https://localhost:8080/",
          "height": 363
        },
        "id": "XVkkmd-x_8uC",
        "outputId": "1acb9ab0-3981-4ac1-ec57-df633afd3d8b"
      },
      "outputs": [],
      "source": [
        "TopTenAnime = aniList.loc[aniList['rank']> 0.0]\n",
        "TopTenAnime[['rank', 'title', 'score']].sort_values('rank', ascending=True).head(10)"
      ]
    },
    {
      "cell_type": "code",
      "execution_count": null,
      "metadata": {
        "colab": {
          "base_uri": "https://localhost:8080/",
          "height": 350
        },
        "id": "CS32dlrRAHjB",
        "outputId": "7fa6cdaf-7904-4cea-e2e8-67077a9fcdbd"
      },
      "outputs": [],
      "source": [
        "tmpTopTenAnime=TopTenAnime[['rank', 'title', 'score']].sort_values('rank', ascending=True).head(10)\n",
        "plt.figure(figsize=(10,5))\n",
        "sns.barplot(tmpTopTenAnime['score'],tmpTopTenAnime['title'])\n",
        "plt.title('Top 10 animes')\n",
        "plt.xlabel('Popularity Score')\n",
        "plt.show()"
      ]
    },
    {
      "cell_type": "markdown",
      "metadata": {
        "id": "I_FOCrqRAKvj"
      },
      "source": [
        "### 5 อันดับ อนิเมะที่ได้รับความนิยมมากที่สุด นับจาก score ที่มีใน dataset\n",
        "1. Fullmetal Alchemist: Brotherhood\n",
        "2. Kimi no Na wa.\n",
        "3. Gintama\n",
        "4. Steins;Gate 0\n",
        "5. Steins;Gate"
      ]
    },
    {
      "cell_type": "markdown",
      "metadata": {},
      "source": [
        "* ลอง head ข้อมูลออกมาดู "
      ]
    },
    {
      "cell_type": "code",
      "execution_count": null,
      "metadata": {
        "colab": {
          "base_uri": "https://localhost:8080/",
          "height": 81
        },
        "id": "gTvvBedvAVRy",
        "outputId": "3a5b8c67-d7a0-4a8d-c948-8046079b409f"
      },
      "outputs": [],
      "source": [
        "TopTenAnime[['title', 'score','scored_by']].loc[TopTenAnime['title'] == \"Steins;Gate\"].head()"
      ]
    },
    {
      "cell_type": "markdown",
      "metadata": {},
      "source": [
        "* เปรียบเทียบ อันดับ 4 กับ อันดับ 5"
      ]
    },
    {
      "cell_type": "code",
      "execution_count": null,
      "metadata": {
        "colab": {
          "base_uri": "https://localhost:8080/",
          "height": 81
        },
        "id": "Sxo8csukANcO",
        "outputId": "d73e50be-95a4-43a3-c4d9-6909d204c7f3"
      },
      "outputs": [],
      "source": [
        "TopTenAnime[['title', 'score', 'scored_by']].loc[TopTenAnime['title'] == \"Gintama°\"].head()"
      ]
    },
    {
      "cell_type": "markdown",
      "metadata": {
        "id": "ArQIezABAOk6"
      },
      "source": [
        "เมื่อลอง head ออกมา จะเห็นว่า Steins;Gate มีคะแนน 9.14 ซึงน้อยกว่า Gintama 0.01 คะแนนแต่ คนที่โหวดให้ Ginnama กับมีน้อยกว่า Steins;Gate"
      ]
    },
    {
      "cell_type": "code",
      "execution_count": null,
      "metadata": {
        "colab": {
          "base_uri": "https://localhost:8080/"
        },
        "id": "6mhKPjWadTJu",
        "outputId": "a2cc1d25-f26e-4ff0-f43c-7530d44c99ae"
      },
      "outputs": [],
      "source": [
        "\n",
        "rating1 = data2[['anime_id','title', 'genre','scored_by','score']]\n",
        "rating1.drop_duplicates(subset=['anime_id'],inplace=True)\n",
        "rating1.reset_index(drop=True,inplace=True)\n",
        "\n",
        "rating1.shape"
      ]
    },
    {
      "cell_type": "code",
      "execution_count": null,
      "metadata": {
        "colab": {
          "base_uri": "https://localhost:8080/"
        },
        "id": "rLVKHWYGeS_J",
        "outputId": "25550b68-3ad0-4cef-bf3a-5cd8d0d01469"
      },
      "outputs": [],
      "source": [
        "# ค่าเฉลี่ยนของคะแนนโดยรวม\n",
        "C = rating1['score'].mean()\n",
        "\n",
        "# เรื่องที่มีอัตราการนับคะแนนโดยรวมมากกว่า 85%\n",
        "m = rating1['scored_by'].quantile(0.85)\n",
        "print('m: ', m, 'C: ', C)"
      ]
    },
    {
      "cell_type": "code",
      "execution_count": null,
      "metadata": {
        "id": "pVakc-pme9RW"
      },
      "outputs": [],
      "source": [
        "def Iighted_rating(x, m=m, C=C):\n",
        "    v = x['scored_by']\n",
        "    R = x['score']\n",
        "    return (v/(v+m) * R) + (m/(m+v) * C)\n",
        "\n",
        "    # คำนวณ"
      ]
    },
    {
      "cell_type": "code",
      "execution_count": null,
      "metadata": {
        "colab": {
          "base_uri": "https://localhost:8080/"
        },
        "id": "w4ofrwAbfKmf",
        "outputId": "8ccdd509-ff50-4a19-b86a-974c7ab6fe9f"
      },
      "outputs": [],
      "source": [
        "# animes having total rate count greater than 85% is considered into lists_animes\n",
        "lists_animes =rating1.copy().loc[rating1['scored_by'] >= m]\n",
        "\n",
        "lists_animes['trusted_score'] = lists_animes.apply(Iighted_rating, axis=1)\n",
        "lists_animes = lists_animes.sort_values('trusted_score', ascending=False)\n",
        "\n",
        "lists_animes.shape"
      ]
    },
    {
      "cell_type": "code",
      "execution_count": null,
      "metadata": {
        "colab": {
          "base_uri": "https://localhost:8080/",
          "height": 363
        },
        "id": "6Q_xnYqWgHu2",
        "outputId": "b6532066-cee5-4f98-c8d1-846a28240212"
      },
      "outputs": [],
      "source": [
        "# TOP 10 Most popular anime by trusted score\n",
        "lists_animes[['title', 'scored_by', 'score', 'trusted_score']].head(10)"
      ]
    },
    {
      "cell_type": "markdown",
      "metadata": {
        "id": "iLxgy4uxAtSR"
      },
      "source": [
        "### อันดับจริงๆ ของอนิเมะแต่ละเรื่องคำนวณจาก คนที่มาโหวดด้วย"
      ]
    },
    {
      "cell_type": "code",
      "execution_count": null,
      "metadata": {
        "colab": {
          "base_uri": "https://localhost:8080/",
          "height": 350
        },
        "id": "knlDbjo-gkCV",
        "outputId": "bce67af4-8ddc-4b00-8dad-42612c5cefe2"
      },
      "outputs": [],
      "source": [
        "pop=lists_animes[['title', 'scored_by', 'score', 'trusted_score']].head(10)\n",
        "plt.figure(figsize=(10,5))\n",
        "sns.barplot(pop['trusted_score'],pop['title'])\n",
        "plt.title('Anime Recomendation')\n",
        "plt.xlabel('Popularity Score')\n",
        "plt.show()\n"
      ]
    },
    {
      "cell_type": "markdown",
      "metadata": {
        "id": "e7i_XMffCoOn"
      },
      "source": [
        "จะเห็นว่าต่างจากก่อนหน้า เมื่อนำจำนวนคนที่มาโหวดด้วย\n",
        "\n",
        "ก่อน\n",
        "1. Fullmetal Alchemist: Brotherhood\n",
        "2. Kimi no Na wa.\n",
        "3. Gintama\n",
        "4. Steins;Gate 0\n",
        "5. Steins;Gate\n",
        "\n",
        "หลัง\n",
        "1. Fullmetal Alchemist: Brotherhood\n",
        "2. Kimi no Na wa.\n",
        "3. Steins;Gate\n",
        "4. Hunter x Hunter (2011)\n",
        "5. Koe no Katachi"
      ]
    },
    {
      "cell_type": "markdown",
      "metadata": {
        "id": "0Y9QLHwWh1uK"
      },
      "source": [
        "# **Content Based Recomendation**"
      ]
    },
    {
      "cell_type": "code",
      "execution_count": null,
      "metadata": {
        "colab": {
          "base_uri": "https://localhost:8080/",
          "height": 206
        },
        "id": "y-Y3BsQEiB1I",
        "outputId": "7347604b-db1c-42ed-c5a7-d0778b04e687"
      },
      "outputs": [],
      "source": [
        "lists_animes.head()"
      ]
    },
    {
      "cell_type": "code",
      "execution_count": null,
      "metadata": {
        "id": "ZDrYN5IRnmsW"
      },
      "outputs": [],
      "source": [
        "def combine_string(row):\n",
        "  res = [str(r) for r in row]\n",
        "  return ' | '.join(res)\n",
        "  # ฟังก์ชัน combine string"
      ]
    },
    {
      "cell_type": "code",
      "execution_count": null,
      "metadata": {
        "id": "z0b9wCl0idKn"
      },
      "outputs": [],
      "source": [
        "data3=aniList.copy()\n",
        "\n",
        "cb = ['title', 'genre','type','studio', 'source'] # \n",
        "\n",
        "data3['describe'] = data3[cb].apply(combine_string,axis = 1)\n",
        "#data3['describe'].fillna(' ')\n",
        "\n",
        "#data3.head()\n",
        "\n",
        "# สร้าง dataset ใหม่ ชื่อ data3 และเพิ่ม column ใหม่คือ describe ซึ่งเอา genre type episodes มาผสมกัน\n",
        "\n",
        "# considering the anime content\n",
        "#data3['describe']=data3['genre'],data3['type'],data3['episodes']\n",
        "#data3['describe'].fillna(' ')\n",
        "#data3.head()\n",
        "\n",
        "data3.drop_duplicates(subset=['title'],inplace=True)\n",
        "data3.reset_index(drop=True,inplace=True)\n",
        "data3.shape\n"
      ]
    },
    {
      "cell_type": "markdown",
      "metadata": {
        "id": "WaRx7h812YYp"
      },
      "source": [
        "## **Feature Engineering**\n",
        "\n",
        "*   TfidfVectorizer คือ algorithm ที่เลือกใช้ ซึ่งจะช่วยเราจัดการกับข้อความ Eng \n",
        "*   จะคืนค่ามาเป็น matrix ซึ่งแทนความใกล้เคียงกันของข้อมูลที่เราเปรียบเทียบ\n",
        "\n",
        "\n",
        "\n"
      ]
    },
    {
      "cell_type": "code",
      "execution_count": null,
      "metadata": {
        "colab": {
          "base_uri": "https://localhost:8080/",
          "height": 537
        },
        "id": "QHiZZgHHoJJR",
        "outputId": "0ae71793-2b06-4c61-f04d-69495befb122"
      },
      "outputs": [],
      "source": [
        "tf = CountVectorizer(ngram_range=(1,2), stop_words='english')\n",
        "tf_matrix = tf.fit_transform(data3['describe'])\n",
        "\n",
        "test_simil = cosine_similarity(tf_matrix,tf_matrix)\n",
        "\n",
        "id=data3['anime_id'].values\n",
        "\n",
        "test_simil = pd.DataFrame(test_simil, index=id, columns=id)\n",
        "\n",
        "test_simil.columns = data3['title']\n",
        "\n",
        "test_simil['anime_name'] = data3['title'].values\n",
        "\n",
        "test_simil.head()"
      ]
    },
    {
      "cell_type": "markdown",
      "metadata": {
        "id": "4u2gN8A65wsa"
      },
      "source": [
        "ซึ่งยิ่งค่า Matrix สูงเท่าไหร่ ก็หมายถึงความใกล้เคียงของข้อมูล สูงสุดคือ 1.000000"
      ]
    },
    {
      "cell_type": "markdown",
      "metadata": {
        "id": "AFG1NK743ujg"
      },
      "source": [
        "# **Modeling**"
      ]
    },
    {
      "cell_type": "markdown",
      "metadata": {
        "id": "I06agWvRr_9f"
      },
      "source": [
        "## **Benchmark**"
      ]
    },
    {
      "cell_type": "markdown",
      "metadata": {
        "id": "SXzJ9dxb6mj6"
      },
      "source": [
        "* เปรียบเทียบ (ข้อมูล และ เวลา) ระหว่าง TfidfVectorizer และ CountVectorize\n",
        "* เปรียบเทียบ เวลาระหว่าง Cosine Similarity กับ Linear Karnel"
      ]
    },
    {
      "cell_type": "code",
      "execution_count": null,
      "metadata": {},
      "outputs": [],
      "source": [
        "# tf_linear = TfidfVectorizer(ngram_range=(1,2), stop_words='english')\n",
        "# tf_cosine = TfidfVectorizer(ngram_range=(1,2), stop_words='english')\n",
        "# cv_linear = CountVectorizer(ngram_range=(1,2), stop_words='english')\n",
        "# cv_cosine = CountVectorizer(ngram_range=(1,2), stop_words='english')\n",
        "\n",
        "def Racing(driver, co_driver):\n",
        "\n",
        "    start = time.time()\n",
        "\n",
        "    if driver == \"tf\":\n",
        "        newData = TfidfVectorizer(ngram_range=(1,2), stop_words='english')\n",
        "    else:\n",
        "        newData = CountVectorizer(ngram_range=(1,2), stop_words='english')\n",
        "\n",
        "    matrix = newData.fit_transform(data3['describe'])\n",
        "\n",
        "    if co_driver == \"cosine\":\n",
        "        similarity = cosine_similarity(matrix,matrix)\n",
        "    else:\n",
        "        similarity = linear_kernel(matrix,matrix)\n",
        "\n",
        "    end = time.time()\n",
        "    \n",
        "    timeResults = round(end - start ,2)\n",
        "    return similarity, timeResults"
      ]
    },
    {
      "cell_type": "code",
      "execution_count": null,
      "metadata": {
        "id": "pCNDfUejnRbo"
      },
      "outputs": [],
      "source": [
        "tf_simil_cosine, tf_consine_time = Racing(\"tf\", \"cosine\")\n",
        "tf_simil_linear, tf_linear_time = Racing(\"tf\", 'linear')\n",
        "cv_simil_cosine, cv_consine_time = Racing(\"cnt\", 'cosine')\n",
        "cv_simil_linear, cv_linear_time = Racing(\"cnt\", 'linear')\n",
        "\n",
        "print(\n",
        "f\"\"\"\n",
        "    TfidfVectorizer Cosine Similarity   Speed {tf_consine_time}  Second\n",
        "    TfidfVectorizer Linear Karnel       Speed {tf_linear_time}   Second\n",
        "    CountVectorizer Cosine Similarity   Speed {cv_consine_time}  Second\n",
        "    CountVectorizer Linear Karnel       Speed {cv_linear_time}   Second\n",
        "\"\"\"\n",
        ")"
      ]
    },
    {
      "cell_type": "markdown",
      "metadata": {
        "id": "7FdLseWlshok"
      },
      "source": [
        "### สรุปได้ว่า  Linear Karnel นั้นมีความเร็วมากกว่า Cosine Similarity หากใช้ TfidfVectorizer \n",
        "\n",
        "*   TfidfVectorizer เร็วกว่า CountVectorizer \n",
        "\n",
        "*   CountVectorizer ในส่วนของความเร็วระหว่าง Cosine และ Linear ต่างกันน้อยมาก\n",
        "\n",
        "\n",
        "\n"
      ]
    },
    {
      "cell_type": "code",
      "execution_count": null,
      "metadata": {
        "id": "DHaTub8XoQVW"
      },
      "outputs": [],
      "source": [
        "#cosine_similarity cell\n",
        "# เตรียมข้อมูลที่คำนวณได้ให้พร้อมสำหรับการแสดงผล\n",
        "\n",
        "def PrepareDataForDisplay(newData):\n",
        "    newId = data3['anime_id'].values\n",
        "    newData = pd.DataFrame(newData, index=newId, columns=newId)\n",
        "    newData.columns = data3['title']\n",
        "    newData['anime_name'] = data3['title'].values\n",
        "    return newData\n",
        "\n",
        "# id_tf_linear=data3['anime_id'].values\n",
        "# tf_simil_linear = pd.DataFrame(tf_simil_linear, index=id_tf_linear, columns=id_tf_linear)\n",
        "# tf_simil_linear.columns = data3['title']\n",
        "# tf_simil_linear['anime_name'] = data3['title'].values\n",
        "\n",
        "tf_simil_cosine = PrepareDataForDisplay(tf_simil_cosine)\n",
        "tf_simil_linear = PrepareDataForDisplay(tf_simil_linear)\n",
        "cv_simil_cosine = PrepareDataForDisplay(cv_simil_cosine)\n",
        "cv_simil_linear = PrepareDataForDisplay(cv_simil_linear)\n",
        "\n",
        "#  คำนวณค่าเฉลี่ยต่างๆจาก algo TfidfVectorizer"
      ]
    },
    {
      "cell_type": "code",
      "execution_count": null,
      "metadata": {},
      "outputs": [],
      "source": [
        "# โชว์รายการที่ใกล้เคียงกับชื่ออนิเมะที่กรอกโดยอิงจาก genre, episode , type โดยคำนวณมาจาก TfidfVectorizer ซึ่งใช้วิธีแบบ linear_karnel\n",
        "\n",
        "contentList = ['genre','type','source','studio']\n",
        "\n",
        "def Similarity(name,pData,total):\n",
        "  index = pData[pData['anime_name']== name]\n",
        "  index = index.drop('anime_name',axis = 1 ).T\n",
        "  index.columns = ['similar_anime']\n",
        "\n",
        "  for i in range(len(contentList)):\n",
        "    index[[contentList[i].capitalize()]] = data3[[contentList[i]]].values\n",
        "\n",
        "  index = index.sort_values(by='similar_anime', ascending=False)\n",
        "\n",
        "  return pd.DataFrame(index.head(total))"
      ]
    },
    {
      "cell_type": "markdown",
      "metadata": {
        "id": "oevFpDSTDc4s"
      },
      "source": [
        "Test Variable\n",
        "\n",
        "TFvec = tf_simil_linear , tf_simil_cosine\n",
        "CountVec = cv_simil_linear, cv_simil_cosine"
      ]
    },
    {
      "cell_type": "markdown",
      "metadata": {
        "id": "C0_d6vkCmB7H"
      },
      "source": [
        "### **เปรียบเทียบ ข้อมูล ระหว่าง Tf_vec กับ Cnt_vec ด้วยการใช้ Linear Karnel**\n"
      ]
    },
    {
      "cell_type": "markdown",
      "metadata": {
        "id": "iJ7l0puU9i4I"
      },
      "source": [
        "โดยอิงจากความใกล้เคียงกันของข้อมูลประเภท **Title, Genre, Type, Source, Studio**"
      ]
    },
    {
      "cell_type": "code",
      "execution_count": null,
      "metadata": {},
      "outputs": [],
      "source": [
        "searchAnime = 'Log Horizon'"
      ]
    },
    {
      "cell_type": "code",
      "execution_count": null,
      "metadata": {
        "colab": {
          "base_uri": "https://localhost:8080/",
          "height": 394
        },
        "id": "KMaMoXA4DT4r",
        "outputId": "d06053c1-1a82-41bc-d0d0-e2d1448e3ee4"
      },
      "outputs": [],
      "source": [
        "Similarity(searchAnime, tf_simil_cosine, 5)"
      ]
    },
    {
      "cell_type": "code",
      "execution_count": null,
      "metadata": {
        "colab": {
          "base_uri": "https://localhost:8080/",
          "height": 394
        },
        "id": "3j9G_PFPDYJ_",
        "outputId": "71bf9e79-d3fc-4562-f83b-b9b4c6c1c337"
      },
      "outputs": [],
      "source": [
        "Similarity(searchAnime, tf_simil_linear, 5)"
      ]
    },
    {
      "cell_type": "markdown",
      "metadata": {
        "id": "Ztx6o8XxDgDU"
      },
      "source": [
        "-> TfidfVectorizer เป็นไปตามที่เราต้องการมากกว่า CountVectorizer เพราะชื่อเรื่อง และ Season มีความใกล้เคียงกัน"
      ]
    },
    {
      "cell_type": "markdown",
      "metadata": {},
      "source": [
        "### **เปรียบเทียบ ข้อมูล ระหว่าง Tf_vec กับ Cnt_vec ด้วยการใช้ Cosine Similarity**"
      ]
    },
    {
      "cell_type": "code",
      "execution_count": null,
      "metadata": {
        "colab": {
          "base_uri": "https://localhost:8080/",
          "height": 394
        },
        "id": "JHGymQzYDZGp",
        "outputId": "82c9fa96-9b68-4d30-cde2-e78145bf1203"
      },
      "outputs": [],
      "source": [
        "Similarity(searchAnime, cv_simil_cosine, 5)"
      ]
    },
    {
      "cell_type": "code",
      "execution_count": null,
      "metadata": {
        "colab": {
          "base_uri": "https://localhost:8080/",
          "height": 394
        },
        "id": "JQVZ2WbWDaG7",
        "outputId": "05206c22-d493-48c9-a122-166e67d35cb0"
      },
      "outputs": [],
      "source": [
        "Similarity(searchAnime, cv_simil_linear, 5)"
      ]
    },
    {
      "cell_type": "markdown",
      "metadata": {
        "id": "DG2fzCJCDh9s"
      },
      "source": [
        "### ในส่วนนี้จะเป็นการลองเอา cosine มาทดสอบบ้างโดยเทียบกับ linear (ด้านบน)\n",
        "* ในด้านข้อมูลนั้นไม่ต่างกันมากจะต่างกันคือในลำดับที่ 10 เป็นต้นไป\n",
        "* ในด้านเวลา \n",
        "    *   Cosine Similarity Speed :  4.49  Second\n",
        "    *   Linear Karnel Speed :  4.24  Second"
      ]
    },
    {
      "cell_type": "markdown",
      "metadata": {
        "id": "HXn6-BFN8zBf"
      },
      "source": [
        "## **สรุป**\n",
        "\n",
        "*   ใช้  TfidfVectorizer เพราะชื่ออนิเมะที่ค้นหา ค่อนข้างตรงตามที่เราต้องการ\n",
        "*   ใช้ Linear เพราะเร็วกว่า Cosine \n",
        "\n"
      ]
    },
    {
      "cell_type": "markdown",
      "metadata": {
        "id": "oAUvnMdXCoOr"
      },
      "source": [
        "# **Pipeline**"
      ]
    },
    {
      "cell_type": "code",
      "execution_count": 65,
      "metadata": {},
      "outputs": [],
      "source": [
        "class PipeLine:\n",
        "    def __init__(self, data: pd.DataFrame):\n",
        "        self.aniList = data.copy()\n",
        "        self.contentList = ['genre','type','source','studio']\n",
        "        self.targetColumn = ['title', 'genre','type','studio', 'source'] # \n",
        "\n",
        "    def Prepare(self):\n",
        "\n",
        "        def combine_string(row):\n",
        "            res = [str(r) for r in row]\n",
        "            return ' | '.join(res)\n",
        "\n",
        "        self.aniList['describe'] = self.aniList[self.targetColumn].apply(combine_string,axis = 1)\n",
        "\n",
        "        self.aniList.drop_duplicates(subset=['title'],inplace=True)\n",
        "        self.aniList.reset_index(drop=True,inplace=True)\n",
        "\n",
        "        return self.aniList\n",
        "\n",
        "    #Feature Engineering\n",
        "    def Matrix(self, driver, co_driver):\n",
        "        if driver == \"tf\":\n",
        "            newData = TfidfVectorizer(ngram_range=(1,2), stop_words='english')\n",
        "        else:\n",
        "            newData = CountVectorizer(ngram_range=(1,2), stop_words='english')\n",
        "\n",
        "        matrix = newData.fit_transform(self.aniList['describe'])\n",
        "\n",
        "        if co_driver == \"cosine\":\n",
        "            similarity = cosine_similarity(matrix,matrix)\n",
        "        else:\n",
        "            similarity = linear_kernel(matrix,matrix)\n",
        "\n",
        "        return similarity\n",
        "\n",
        "    # Matrix\n",
        "    def NewData(self, newData):\n",
        "        newId = self.aniList['anime_id'].values\n",
        "        newData = pd.DataFrame(newData, index=newId, columns=newId)\n",
        "        newData.columns = self.aniList['title']\n",
        "        newData['anime_name'] = self.aniList['title'].values\n",
        "        return newData\n",
        "\n",
        "    def Similarity(self, name,pData):\n",
        "        index = pData[pData['anime_name'] == name]\n",
        "        index = index.drop('anime_name',axis = 1 ).T\n",
        "        index.columns = ['similar_anime']\n",
        "\n",
        "        for i in range(len(self.contentList)):\n",
        "            index[[self.contentList[i].capitalize()]] = self.aniList[[self.contentList[i]]].values\n",
        "\n",
        "        index = index.sort_values(by='similar_anime', ascending=False)\n",
        "\n",
        "        return pd.DataFrame(index)\n",
        "        \n",
        "    # Execute\n",
        "    def Execution(self, searchAnime):\n",
        "        self.aniList = self.Prepare()\n",
        "        tf_simil_linear = self.Matrix(\"tf\", 'linear')\n",
        "        tf_simil_linear = self.NewData(tf_simil_linear)\n",
        "        \n",
        "        return self.Similarity(searchAnime, tf_simil_linear)"
      ]
    },
    {
      "cell_type": "code",
      "execution_count": 66,
      "metadata": {},
      "outputs": [],
      "source": [
        "pipe = PipeLine(aniList)"
      ]
    },
    {
      "cell_type": "code",
      "execution_count": 69,
      "metadata": {},
      "outputs": [],
      "source": [
        "result = pipe.Execution(\"One Piece\")"
      ]
    },
    {
      "cell_type": "code",
      "execution_count": 70,
      "metadata": {},
      "outputs": [
        {
          "data": {
            "text/html": [
              "<div>\n",
              "<style scoped>\n",
              "    .dataframe tbody tr th:only-of-type {\n",
              "        vertical-align: middle;\n",
              "    }\n",
              "\n",
              "    .dataframe tbody tr th {\n",
              "        vertical-align: top;\n",
              "    }\n",
              "\n",
              "    .dataframe thead th {\n",
              "        text-align: right;\n",
              "    }\n",
              "</style>\n",
              "<table border=\"1\" class=\"dataframe\">\n",
              "  <thead>\n",
              "    <tr style=\"text-align: right;\">\n",
              "      <th></th>\n",
              "      <th>similar_anime</th>\n",
              "      <th>Genre</th>\n",
              "      <th>Type</th>\n",
              "      <th>Source</th>\n",
              "      <th>Studio</th>\n",
              "    </tr>\n",
              "    <tr>\n",
              "      <th>title</th>\n",
              "      <th></th>\n",
              "      <th></th>\n",
              "      <th></th>\n",
              "      <th></th>\n",
              "      <th></th>\n",
              "    </tr>\n",
              "  </thead>\n",
              "  <tbody>\n",
              "    <tr>\n",
              "      <th>One Piece</th>\n",
              "      <td>1.000000</td>\n",
              "      <td>Action, Adventure, Comedy, Super Power, Drama,...</td>\n",
              "      <td>TV</td>\n",
              "      <td>Manga</td>\n",
              "      <td>Toei Animation</td>\n",
              "    </tr>\n",
              "    <tr>\n",
              "      <th>One Piece: Episode of Sorajima</th>\n",
              "      <td>0.563116</td>\n",
              "      <td>Action, Adventure, Comedy, Super Power, Drama,...</td>\n",
              "      <td>Special</td>\n",
              "      <td>Manga</td>\n",
              "      <td>Toei Animation</td>\n",
              "    </tr>\n",
              "    <tr>\n",
              "      <th>One Piece Movie 1</th>\n",
              "      <td>0.550795</td>\n",
              "      <td>Action, Adventure, Comedy, Super Power, Fantas...</td>\n",
              "      <td>Movie</td>\n",
              "      <td>Manga</td>\n",
              "      <td>Toei Animation</td>\n",
              "    </tr>\n",
              "    <tr>\n",
              "      <th>One Piece Film: Z</th>\n",
              "      <td>0.464890</td>\n",
              "      <td>Action, Adventure, Comedy, Drama, Fantasy, Sho...</td>\n",
              "      <td>Movie</td>\n",
              "      <td>Manga</td>\n",
              "      <td>Toei Animation</td>\n",
              "    </tr>\n",
              "    <tr>\n",
              "      <th>One Piece Recap</th>\n",
              "      <td>0.463263</td>\n",
              "      <td>Action, Adventure, Comedy, Fantasy, Shounen, S...</td>\n",
              "      <td>OVA</td>\n",
              "      <td>Manga</td>\n",
              "      <td>Toei Animation</td>\n",
              "    </tr>\n",
              "    <tr>\n",
              "      <th>Toriko</th>\n",
              "      <td>0.457907</td>\n",
              "      <td>Action, Adventure, Comedy, Fantasy, Shounen</td>\n",
              "      <td>TV</td>\n",
              "      <td>Manga</td>\n",
              "      <td>Toei Animation</td>\n",
              "    </tr>\n",
              "    <tr>\n",
              "      <th>One Piece: Adventure of Nebulandia</th>\n",
              "      <td>0.453302</td>\n",
              "      <td>Action, Adventure, Comedy, Super Power, Fantas...</td>\n",
              "      <td>Special</td>\n",
              "      <td>Manga</td>\n",
              "      <td>Toei Animation</td>\n",
              "    </tr>\n",
              "    <tr>\n",
              "      <th>One Piece: Long Ring Long Land-hen</th>\n",
              "      <td>0.442446</td>\n",
              "      <td>Action, Adventure, Comedy, Super Power, Drama,...</td>\n",
              "      <td>Special</td>\n",
              "      <td>Manga</td>\n",
              "      <td>Toei Animation</td>\n",
              "    </tr>\n",
              "    <tr>\n",
              "      <th>One Piece: Glorious Island</th>\n",
              "      <td>0.434724</td>\n",
              "      <td>Action, Adventure, Comedy, Super Power, Fantas...</td>\n",
              "      <td>Special</td>\n",
              "      <td>Manga</td>\n",
              "      <td>Toei Animation</td>\n",
              "    </tr>\n",
              "    <tr>\n",
              "      <th>One Piece: Episode of East Blue - Luffy to 4-nin no Nakama no Daibouken</th>\n",
              "      <td>0.412640</td>\n",
              "      <td>Action, Adventure, Comedy, Super Power, Drama,...</td>\n",
              "      <td>Special</td>\n",
              "      <td>Manga</td>\n",
              "      <td>Toei Animation</td>\n",
              "    </tr>\n",
              "  </tbody>\n",
              "</table>\n",
              "</div>"
            ],
            "text/plain": [
              "                                                    similar_anime  \\\n",
              "title                                                               \n",
              "One Piece                                                1.000000   \n",
              "One Piece: Episode of Sorajima                           0.563116   \n",
              "One Piece Movie 1                                        0.550795   \n",
              "One Piece Film: Z                                        0.464890   \n",
              "One Piece Recap                                          0.463263   \n",
              "Toriko                                                   0.457907   \n",
              "One Piece: Adventure of Nebulandia                       0.453302   \n",
              "One Piece: Long Ring Long Land-hen                       0.442446   \n",
              "One Piece: Glorious Island                               0.434724   \n",
              "One Piece: Episode of East Blue - Luffy to 4-ni...       0.412640   \n",
              "\n",
              "                                                                                                Genre  \\\n",
              "title                                                                                                   \n",
              "One Piece                                           Action, Adventure, Comedy, Super Power, Drama,...   \n",
              "One Piece: Episode of Sorajima                      Action, Adventure, Comedy, Super Power, Drama,...   \n",
              "One Piece Movie 1                                   Action, Adventure, Comedy, Super Power, Fantas...   \n",
              "One Piece Film: Z                                   Action, Adventure, Comedy, Drama, Fantasy, Sho...   \n",
              "One Piece Recap                                     Action, Adventure, Comedy, Fantasy, Shounen, S...   \n",
              "Toriko                                                    Action, Adventure, Comedy, Fantasy, Shounen   \n",
              "One Piece: Adventure of Nebulandia                  Action, Adventure, Comedy, Super Power, Fantas...   \n",
              "One Piece: Long Ring Long Land-hen                  Action, Adventure, Comedy, Super Power, Drama,...   \n",
              "One Piece: Glorious Island                          Action, Adventure, Comedy, Super Power, Fantas...   \n",
              "One Piece: Episode of East Blue - Luffy to 4-ni...  Action, Adventure, Comedy, Super Power, Drama,...   \n",
              "\n",
              "                                                       Type Source  \\\n",
              "title                                                                \n",
              "One Piece                                                TV  Manga   \n",
              "One Piece: Episode of Sorajima                      Special  Manga   \n",
              "One Piece Movie 1                                     Movie  Manga   \n",
              "One Piece Film: Z                                     Movie  Manga   \n",
              "One Piece Recap                                         OVA  Manga   \n",
              "Toriko                                                   TV  Manga   \n",
              "One Piece: Adventure of Nebulandia                  Special  Manga   \n",
              "One Piece: Long Ring Long Land-hen                  Special  Manga   \n",
              "One Piece: Glorious Island                          Special  Manga   \n",
              "One Piece: Episode of East Blue - Luffy to 4-ni...  Special  Manga   \n",
              "\n",
              "                                                            Studio  \n",
              "title                                                               \n",
              "One Piece                                           Toei Animation  \n",
              "One Piece: Episode of Sorajima                      Toei Animation  \n",
              "One Piece Movie 1                                   Toei Animation  \n",
              "One Piece Film: Z                                   Toei Animation  \n",
              "One Piece Recap                                     Toei Animation  \n",
              "Toriko                                              Toei Animation  \n",
              "One Piece: Adventure of Nebulandia                  Toei Animation  \n",
              "One Piece: Long Ring Long Land-hen                  Toei Animation  \n",
              "One Piece: Glorious Island                          Toei Animation  \n",
              "One Piece: Episode of East Blue - Luffy to 4-ni...  Toei Animation  "
            ]
          },
          "execution_count": 70,
          "metadata": {},
          "output_type": "execute_result"
        }
      ],
      "source": [
        "result.head(10)"
      ]
    },
    {
      "cell_type": "markdown",
      "metadata": {},
      "source": [
        "# **Deploy**"
      ]
    },
    {
      "cell_type": "markdown",
      "metadata": {},
      "source": [
        "working ..."
      ]
    },
    {
      "cell_type": "markdown",
      "metadata": {
        "id": "gNJwZ_Hh9KXu"
      },
      "source": [
        "# **Reference**\n",
        "\n",
        "* https://www.kaggle.com/lavanyaanandm/recommending-anime-s-using-all-recommendation-sys#10.-Reference-\n",
        "* https://www.kaggle.com/azathoth42/myanimelist?select=AnimeList.csv\n"
      ]
    }
  ],
  "metadata": {
    "colab": {
      "collapsed_sections": [],
      "name": "Anime_Recomendation_3.ipynb",
      "provenance": []
    },
    "kernelspec": {
      "display_name": "Python 3",
      "name": "python3"
    },
    "language_info": {
      "codemirror_mode": {
        "name": "ipython",
        "version": 3
      },
      "file_extension": ".py",
      "mimetype": "text/x-python",
      "name": "python",
      "nbconvert_exporter": "python",
      "pygments_lexer": "ipython3",
      "version": "3.10.0"
    }
  },
  "nbformat": 4,
  "nbformat_minor": 0
}
