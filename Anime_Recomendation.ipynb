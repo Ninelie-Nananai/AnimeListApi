{
  "nbformat": 4,
  "nbformat_minor": 0,
  "metadata": {
    "colab": {
      "name": "Anime Recomendation",
      "provenance": [],
      "collapsed_sections": []
    },
    "kernelspec": {
      "name": "python3",
      "display_name": "Python 3"
    },
    "language_info": {
      "name": "python"
    }
  },
  "cells": [
    {
      "cell_type": "code",
      "metadata": {
        "id": "91HTPjo5YtEq"
      },
      "source": [
        "# import 'Pandas' \n",
        "import pandas as pd \n",
        "\n",
        "# import 'Numpy' \n",
        "import numpy as np\n",
        "\n",
        "# import subpackage of Matplotlib\n",
        "import matplotlib.pyplot as plt\n",
        "from matplotlib.colors import ListedColormap\n",
        "\n",
        "# import 'Seaborn' \n",
        "import seaborn as sns\n",
        "\n",
        "# to suppress warnings \n",
        "from warnings import filterwarnings\n",
        "filterwarnings('ignore')\n",
        "\n",
        "# display all columns of the dataframe\n",
        "pd.options.display.max_columns = None\n",
        "\n",
        "# display all rows of the dataframe\n",
        "pd.options.display.max_rows = None\n",
        " \n",
        "# to display the float values upto 6 decimal places\n",
        "\n",
        "#pd.options.display.float_format = '{:.6f}'.format\n",
        "\n",
        "#from ast import literal_eval\n",
        "from sklearn.feature_extraction.text import TfidfVectorizer\n",
        "from sklearn.metrics.pairwise import cosine_similarity, linear_kernel\n",
        "#from sklearn.neighbors import NearestNeighbors\n",
        "#from sklearn.decomposition import TruncatedSVD\n",
        "#from sklearn.decomposition import PCA\n",
        "#from sklearn.cluster import KMeans\n",
<<<<<<< HEAD
        "#from sklearn.metrics import silhouette_score\n",
        "\n",
=======
        "#from sklearn.metrics import silhouette_score\n"
      ]
    },
    {
      "cell_type": "markdown",
      "metadata": {},
      "source": [
        "# Import dataset"
      ]
    },
    {
      "cell_type": "code",
      "execution_count": 3,
      "metadata": {},
      "outputs": [],
      "source": [
>>>>>>> dad349854a23fbebba7be01f7c84f3a327e42729
        "# aniList = pd.read_csv(io.BytesIO(uploaded['AnimeList.csv']))\n",
        "url = 'https://raw.githubusercontent.com/Ninelie-Nananai/AnimeListApi/main/AnimeList.csv'\n",
        "aniList = pd.read_csv(url)\n",
        "data = aniList.copy()\n",
        "data2 = aniList.copy()"
      ],
      "execution_count": null,
      "outputs": []
    },
    {
      "cell_type": "code",
<<<<<<< HEAD
=======
      "execution_count": 4,
>>>>>>> dad349854a23fbebba7be01f7c84f3a327e42729
      "metadata": {
        "colab": {
          "base_uri": "https://localhost:8080/",
          "height": 423
        },
        "id": "F9NuzkROZW9N",
        "outputId": "82f46580-3ca7-4ab7-811a-6c13c3d8bb3d"
      },
      "source": [
        "data2.head(3)"
      ],
      "execution_count": null,
      "outputs": [
        {
          "output_type": "execute_result",
          "data": {
            "text/html": [
              "<div>\n",
              "<style scoped>\n",
              "    .dataframe tbody tr th:only-of-type {\n",
              "        vertical-align: middle;\n",
              "    }\n",
              "\n",
              "    .dataframe tbody tr th {\n",
              "        vertical-align: top;\n",
              "    }\n",
              "\n",
              "    .dataframe thead th {\n",
              "        text-align: right;\n",
              "    }\n",
              "</style>\n",
              "<table border=\"1\" class=\"dataframe\">\n",
              "  <thead>\n",
              "    <tr style=\"text-align: right;\">\n",
              "      <th></th>\n",
              "      <th>anime_id</th>\n",
              "      <th>title</th>\n",
              "      <th>title_english</th>\n",
              "      <th>title_japanese</th>\n",
              "      <th>title_synonyms</th>\n",
              "      <th>image_url</th>\n",
              "      <th>type</th>\n",
              "      <th>source</th>\n",
              "      <th>episodes</th>\n",
              "      <th>status</th>\n",
              "      <th>airing</th>\n",
              "      <th>aired_string</th>\n",
              "      <th>aired</th>\n",
              "      <th>duration</th>\n",
              "      <th>rating</th>\n",
              "      <th>score</th>\n",
              "      <th>scored_by</th>\n",
              "      <th>rank</th>\n",
              "      <th>popularity</th>\n",
              "      <th>members</th>\n",
              "      <th>favorites</th>\n",
              "      <th>background</th>\n",
              "      <th>premiered</th>\n",
              "      <th>broadcast</th>\n",
              "      <th>related</th>\n",
              "      <th>producer</th>\n",
              "      <th>licensor</th>\n",
              "      <th>studio</th>\n",
              "      <th>genre</th>\n",
              "      <th>opening_theme</th>\n",
              "      <th>ending_theme</th>\n",
              "    </tr>\n",
              "  </thead>\n",
              "  <tbody>\n",
              "    <tr>\n",
              "      <th>0</th>\n",
              "      <td>11013</td>\n",
              "      <td>Inu x Boku SS</td>\n",
              "      <td>Inu X Boku Secret Service</td>\n",
              "      <td>妖狐×僕SS</td>\n",
              "      <td>Youko x Boku SS</td>\n",
              "      <td>https://myanimelist.cdn-dena.com/images/anime/...</td>\n",
              "      <td>TV</td>\n",
              "      <td>Manga</td>\n",
              "      <td>12</td>\n",
              "      <td>Finished Airing</td>\n",
              "      <td>False</td>\n",
              "      <td>Jan 13, 2012 to Mar 30, 2012</td>\n",
              "      <td>{'from': '2012-01-13', 'to': '2012-03-30'}</td>\n",
              "      <td>24 min. per ep.</td>\n",
              "      <td>PG-13 - Teens 13 or older</td>\n",
              "      <td>7.63</td>\n",
              "      <td>139250</td>\n",
              "      <td>1274.0</td>\n",
              "      <td>231</td>\n",
              "      <td>283882</td>\n",
              "      <td>2809</td>\n",
              "      <td>Inu x Boku SS was licensed by Sentai Filmworks...</td>\n",
              "      <td>Winter 2012</td>\n",
              "      <td>Fridays at Unknown</td>\n",
              "      <td>{'Adaptation': [{'mal_id': 17207, 'type': 'man...</td>\n",
              "      <td>Aniplex, Square Enix, Mainichi Broadcasting Sy...</td>\n",
              "      <td>Sentai Filmworks</td>\n",
              "      <td>David Production</td>\n",
              "      <td>Comedy, Supernatural, Romance, Shounen</td>\n",
              "      <td>['\"Nirvana\" by MUCC']</td>\n",
              "      <td>['#1: \"Nirvana\" by MUCC (eps 1, 11-12)', '#2: ...</td>\n",
              "    </tr>\n",
              "    <tr>\n",
              "      <th>1</th>\n",
              "      <td>2104</td>\n",
              "      <td>Seto no Hanayome</td>\n",
              "      <td>My Bride is a Mermaid</td>\n",
              "      <td>瀬戸の花嫁</td>\n",
              "      <td>The Inland Sea Bride</td>\n",
              "      <td>https://myanimelist.cdn-dena.com/images/anime/...</td>\n",
              "      <td>TV</td>\n",
              "      <td>Manga</td>\n",
              "      <td>26</td>\n",
              "      <td>Finished Airing</td>\n",
              "      <td>False</td>\n",
              "      <td>Apr 2, 2007 to Oct 1, 2007</td>\n",
              "      <td>{'from': '2007-04-02', 'to': '2007-10-01'}</td>\n",
              "      <td>24 min. per ep.</td>\n",
              "      <td>PG-13 - Teens 13 or older</td>\n",
              "      <td>7.89</td>\n",
              "      <td>91206</td>\n",
              "      <td>727.0</td>\n",
              "      <td>366</td>\n",
              "      <td>204003</td>\n",
              "      <td>2579</td>\n",
              "      <td>NaN</td>\n",
              "      <td>Spring 2007</td>\n",
              "      <td>Unknown</td>\n",
              "      <td>{'Adaptation': [{'mal_id': 759, 'type': 'manga...</td>\n",
              "      <td>TV Tokyo, AIC, Square Enix, Sotsu</td>\n",
              "      <td>Funimation</td>\n",
              "      <td>Gonzo</td>\n",
              "      <td>Comedy, Parody, Romance, School, Shounen</td>\n",
              "      <td>['\"Romantic summer\" by SUN&amp;LUNAR']</td>\n",
              "      <td>['#1: \"Ashita e no Hikari (明日への光)\" by Asuka Hi...</td>\n",
              "    </tr>\n",
              "    <tr>\n",
              "      <th>2</th>\n",
              "      <td>5262</td>\n",
              "      <td>Shugo Chara!! Doki</td>\n",
              "      <td>Shugo Chara!! Doki</td>\n",
              "      <td>しゅごキャラ！！どきっ</td>\n",
              "      <td>Shugo Chara Ninenme, Shugo Chara! Second Year</td>\n",
              "      <td>https://myanimelist.cdn-dena.com/images/anime/...</td>\n",
              "      <td>TV</td>\n",
              "      <td>Manga</td>\n",
              "      <td>51</td>\n",
              "      <td>Finished Airing</td>\n",
              "      <td>False</td>\n",
              "      <td>Oct 4, 2008 to Sep 25, 2009</td>\n",
              "      <td>{'from': '2008-10-04', 'to': '2009-09-25'}</td>\n",
              "      <td>24 min. per ep.</td>\n",
              "      <td>PG - Children</td>\n",
              "      <td>7.55</td>\n",
              "      <td>37129</td>\n",
              "      <td>1508.0</td>\n",
              "      <td>1173</td>\n",
              "      <td>70127</td>\n",
              "      <td>802</td>\n",
              "      <td>NaN</td>\n",
              "      <td>Fall 2008</td>\n",
              "      <td>Unknown</td>\n",
              "      <td>{'Adaptation': [{'mal_id': 101, 'type': 'manga...</td>\n",
              "      <td>TV Tokyo, Sotsu</td>\n",
              "      <td>NaN</td>\n",
              "      <td>Satelight</td>\n",
              "      <td>Comedy, Magic, School, Shoujo</td>\n",
              "      <td>['#1: \"Minna no Tamago (みんなのたまご)\" by Shugo Cha...</td>\n",
              "      <td>['#1: \"Rottara Rottara (ロッタラ ロッタラ)\" by Buono! ...</td>\n",
              "    </tr>\n",
              "  </tbody>\n",
              "</table>\n",
              "</div>"
            ],
            "text/plain": [
              "   anime_id               title              title_english title_japanese  \\\n",
              "0     11013       Inu x Boku SS  Inu X Boku Secret Service         妖狐×僕SS   \n",
              "1      2104    Seto no Hanayome      My Bride is a Mermaid          瀬戸の花嫁   \n",
              "2      5262  Shugo Chara!! Doki         Shugo Chara!! Doki    しゅごキャラ！！どきっ   \n",
              "\n",
              "                                  title_synonyms  \\\n",
              "0                                Youko x Boku SS   \n",
              "1                           The Inland Sea Bride   \n",
              "2  Shugo Chara Ninenme, Shugo Chara! Second Year   \n",
              "\n",
              "                                           image_url type source  episodes  \\\n",
              "0  https://myanimelist.cdn-dena.com/images/anime/...   TV  Manga        12   \n",
              "1  https://myanimelist.cdn-dena.com/images/anime/...   TV  Manga        26   \n",
              "2  https://myanimelist.cdn-dena.com/images/anime/...   TV  Manga        51   \n",
              "\n",
              "            status  airing                  aired_string  \\\n",
              "0  Finished Airing   False  Jan 13, 2012 to Mar 30, 2012   \n",
              "1  Finished Airing   False    Apr 2, 2007 to Oct 1, 2007   \n",
              "2  Finished Airing   False   Oct 4, 2008 to Sep 25, 2009   \n",
              "\n",
              "                                        aired         duration  \\\n",
              "0  {'from': '2012-01-13', 'to': '2012-03-30'}  24 min. per ep.   \n",
              "1  {'from': '2007-04-02', 'to': '2007-10-01'}  24 min. per ep.   \n",
              "2  {'from': '2008-10-04', 'to': '2009-09-25'}  24 min. per ep.   \n",
              "\n",
              "                      rating  score  scored_by    rank  popularity  members  \\\n",
              "0  PG-13 - Teens 13 or older   7.63     139250  1274.0         231   283882   \n",
              "1  PG-13 - Teens 13 or older   7.89      91206   727.0         366   204003   \n",
              "2              PG - Children   7.55      37129  1508.0        1173    70127   \n",
              "\n",
              "   favorites                                         background    premiered  \\\n",
              "0       2809  Inu x Boku SS was licensed by Sentai Filmworks...  Winter 2012   \n",
              "1       2579                                                NaN  Spring 2007   \n",
              "2        802                                                NaN    Fall 2008   \n",
              "\n",
              "            broadcast                                            related  \\\n",
              "0  Fridays at Unknown  {'Adaptation': [{'mal_id': 17207, 'type': 'man...   \n",
              "1             Unknown  {'Adaptation': [{'mal_id': 759, 'type': 'manga...   \n",
              "2             Unknown  {'Adaptation': [{'mal_id': 101, 'type': 'manga...   \n",
              "\n",
              "                                            producer          licensor  \\\n",
              "0  Aniplex, Square Enix, Mainichi Broadcasting Sy...  Sentai Filmworks   \n",
              "1                  TV Tokyo, AIC, Square Enix, Sotsu        Funimation   \n",
              "2                                    TV Tokyo, Sotsu               NaN   \n",
              "\n",
              "             studio                                     genre  \\\n",
              "0  David Production    Comedy, Supernatural, Romance, Shounen   \n",
              "1             Gonzo  Comedy, Parody, Romance, School, Shounen   \n",
              "2         Satelight             Comedy, Magic, School, Shoujo   \n",
              "\n",
              "                                       opening_theme  \\\n",
              "0                              ['\"Nirvana\" by MUCC']   \n",
              "1                 ['\"Romantic summer\" by SUN&LUNAR']   \n",
              "2  ['#1: \"Minna no Tamago (みんなのたまご)\" by Shugo Cha...   \n",
              "\n",
              "                                        ending_theme  \n",
              "0  ['#1: \"Nirvana\" by MUCC (eps 1, 11-12)', '#2: ...  \n",
              "1  ['#1: \"Ashita e no Hikari (明日への光)\" by Asuka Hi...  \n",
              "2  ['#1: \"Rottara Rottara (ロッタラ ロッタラ)\" by Buono! ...  "
            ]
          },
<<<<<<< HEAD
=======
          "execution_count": 4,
>>>>>>> dad349854a23fbebba7be01f7c84f3a327e42729
          "metadata": {},
          "execution_count": 96
        }
      ]
    },
    {
      "cell_type": "markdown",
      "metadata": {
        "id": "QU-9PV3D5NOV"
      },
      "source": [
        "### **Popularity Based EDA **"
      ]
    },
    {
      "cell_type": "code",
<<<<<<< HEAD
      "metadata": {
        "id": "6mhKPjWadTJu"
      },
=======
      "execution_count": 5,
      "metadata": {},
      "outputs": [
        {
          "name": "stdout",
          "output_type": "stream",
          "text": [
            "<class 'pandas.core.frame.DataFrame'>\n",
            "RangeIndex: 14478 entries, 0 to 14477\n",
            "Data columns (total 31 columns):\n",
            " #   Column          Non-Null Count  Dtype  \n",
            "---  ------          --------------  -----  \n",
            " 0   anime_id        14478 non-null  int64  \n",
            " 1   title           14478 non-null  object \n",
            " 2   title_english   5724 non-null   object \n",
            " 3   title_japanese  14443 non-null  object \n",
            " 4   title_synonyms  8937 non-null   object \n",
            " 5   image_url       14382 non-null  object \n",
            " 6   type            14478 non-null  object \n",
            " 7   source          14478 non-null  object \n",
            " 8   episodes        14478 non-null  int64  \n",
            " 9   status          14478 non-null  object \n",
            " 10  airing          14478 non-null  bool   \n",
            " 11  aired_string    14478 non-null  object \n",
            " 12  aired           14478 non-null  object \n",
            " 13  duration        14478 non-null  object \n",
            " 14  rating          14478 non-null  object \n",
            " 15  score           14478 non-null  float64\n",
            " 16  scored_by       14478 non-null  int64  \n",
            " 17  rank            12904 non-null  float64\n",
            " 18  popularity      14478 non-null  int64  \n",
            " 19  members         14478 non-null  int64  \n",
            " 20  favorites       14478 non-null  int64  \n",
            " 21  background      1057 non-null   object \n",
            " 22  premiered       4096 non-null   object \n",
            " 23  broadcast       4271 non-null   object \n",
            " 24  related         14478 non-null  object \n",
            " 25  producer        8288 non-null   object \n",
            " 26  licensor        3373 non-null   object \n",
            " 27  studio          8544 non-null   object \n",
            " 28  genre           14414 non-null  object \n",
            " 29  opening_theme   14478 non-null  object \n",
            " 30  ending_theme    14478 non-null  object \n",
            "dtypes: bool(1), float64(2), int64(6), object(22)\n",
            "memory usage: 3.3+ MB\n"
          ]
        }
      ],
>>>>>>> dad349854a23fbebba7be01f7c84f3a327e42729
      "source": [
        "\n",
        "rating1 = data2[['anime_id','title', 'genre','scored_by','score']]\n",
        "rating1.drop_duplicates(subset=['anime_id'],inplace=True)\n",
        "rating1.reset_index(drop=True,inplace=True)"
      ],
      "execution_count": null,
      "outputs": []
    },
    {
      "cell_type": "code",
<<<<<<< HEAD
      "metadata": {
        "colab": {
          "base_uri": "https://localhost:8080/"
        },
        "id": "huHdECy1eRKo",
        "outputId": "80f6fb5f-89c2-4e68-ba4a-4e8cf9dccaba"
      },
      "source": [
        "rating1.shape"
      ],
      "execution_count": null,
=======
      "execution_count": 6,
      "metadata": {},
>>>>>>> dad349854a23fbebba7be01f7c84f3a327e42729
      "outputs": [
        {
          "output_type": "execute_result",
          "data": {
            "text/plain": [
              "(14478, 5)"
            ]
          },
<<<<<<< HEAD
=======
          "execution_count": 6,
>>>>>>> dad349854a23fbebba7be01f7c84f3a327e42729
          "metadata": {},
          "execution_count": 98
        }
      ]
    },
    {
      "cell_type": "code",
      "metadata": {
        "colab": {
          "base_uri": "https://localhost:8080/"
        },
        "id": "rLVKHWYGeS_J",
        "outputId": "9d2caf71-8cca-4180-e3e4-62c29b2489f2"
      },
      "source": [
        "# ค่าเฉลี่ยนของคะแนนโดยรวม\n",
        "C = rating1['score'].mean()\n",
        "\n",
        "# เรื่องที่มีอัตราการนับคะแนนโดยรวมมากกว่า 85%\n",
        "m = rating1['scored_by'].quantile(0.85)\n",
        "print('m: ', m, 'C: ', C)"
      ],
      "execution_count": null,
      "outputs": [
        {
          "output_type": "stream",
          "name": "stdout",
          "text": [
            "m:  12584.449999999999 C:  6.142481696366939\n"
          ]
        }
      ]
    },
    {
      "cell_type": "code",
<<<<<<< HEAD
      "metadata": {
        "id": "pVakc-pme9RW"
      },
      "source": [
        "def Iighted_rating(x, m=m, C=C):\n",
        "    v = x['scored_by']\n",
        "    R = x['score']\n",
        "    return (v/(v+m) * R) + (m/(m+v) * C)\n",
        "    \n",
        "    # คำนวณ"
      ],
      "execution_count": null,
      "outputs": []
    },
    {
      "cell_type": "code",
      "metadata": {
        "colab": {
          "base_uri": "https://localhost:8080/"
        },
        "id": "w4ofrwAbfKmf",
        "outputId": "a8eb8537-b906-4cf5-bad6-74b017ea958c"
      },
      "source": [
        "# animes having total rate count greater than 85% is considered into lists_animes\n",
        "lists_animes =rating1.copy().loc[rating1['scored_by'] >= m]\n",
        "lists_animes.shape"
      ],
      "execution_count": null,
=======
      "execution_count": 7,
      "metadata": {},
>>>>>>> dad349854a23fbebba7be01f7c84f3a327e42729
      "outputs": [
        {
          "output_type": "execute_result",
          "data": {
            "text/plain": [
              "(2172, 5)"
            ]
          },
<<<<<<< HEAD
=======
          "execution_count": 7,
>>>>>>> dad349854a23fbebba7be01f7c84f3a327e42729
          "metadata": {},
          "execution_count": 101
        }
      ]
    },
    {
      "cell_type": "code",
      "metadata": {
        "id": "L8iP5VE4fbxU"
      },
      "source": [
        "# Define a new feature 'score' and calculate its value with `Iighted_rating()`\n",
        "lists_animes['trusted_score'] = lists_animes.apply(Iighted_rating, axis=1)"
      ],
      "execution_count": null,
      "outputs": []
    },
    {
      "cell_type": "code",
      "metadata": {
        "id": "GsynEEB3fwR2"
      },
      "source": [
        "#lists_animes.head()"
      ],
      "execution_count": null,
      "outputs": []
    },
    {
      "cell_type": "code",
      "metadata": {
        "id": "pLUJpTWbf5iF"
      },
      "source": [
        "#Sort movies based on score calculated above\n",
        "lists_animes = lists_animes.sort_values('trusted_score', ascending=False)"
      ],
      "execution_count": null,
      "outputs": []
    },
    {
      "cell_type": "code",
<<<<<<< HEAD
      "metadata": {
        "colab": {
          "base_uri": "https://localhost:8080/",
          "height": 363
        },
        "id": "6Q_xnYqWgHu2",
        "outputId": "a58142d6-1035-4075-fe96-f9384e73932c"
      },
      "source": [
        "# TOP 10 Most popular anime by trusted score\n",
        "lists_animes[['title', 'genre', 'scored_by', 'score', 'trusted_score']].head(10)"
      ],
      "execution_count": null,
      "outputs": [
        {
          "output_type": "execute_result",
=======
      "execution_count": 8,
      "metadata": {},
      "outputs": [
        {
>>>>>>> dad349854a23fbebba7be01f7c84f3a327e42729
          "data": {
            "text/html": [
              "<div>\n",
              "<style scoped>\n",
              "    .dataframe tbody tr th:only-of-type {\n",
              "        vertical-align: middle;\n",
              "    }\n",
              "\n",
              "    .dataframe tbody tr th {\n",
              "        vertical-align: top;\n",
              "    }\n",
              "\n",
              "    .dataframe thead th {\n",
              "        text-align: right;\n",
              "    }\n",
              "</style>\n",
              "<table border=\"1\" class=\"dataframe\">\n",
              "  <thead>\n",
              "    <tr style=\"text-align: right;\">\n",
              "      <th></th>\n",
              "      <th>title</th>\n",
              "      <th>genre</th>\n",
              "      <th>scored_by</th>\n",
              "      <th>score</th>\n",
              "      <th>trusted_score</th>\n",
              "    </tr>\n",
              "  </thead>\n",
              "  <tbody>\n",
              "    <tr>\n",
<<<<<<< HEAD
              "      <th>2555</th>\n",
              "      <td>Fullmetal Alchemist: Brotherhood</td>\n",
              "      <td>Action, Military, Adventure, Comedy, Drama, Ma...</td>\n",
              "      <td>733592</td>\n",
              "      <td>9.25</td>\n",
              "      <td>9.197591</td>\n",
              "    </tr>\n",
              "    <tr>\n",
              "      <th>1028</th>\n",
              "      <td>Kimi no Na wa.</td>\n",
              "      <td>Supernatural, Drama, Romance, School</td>\n",
              "      <td>471398</td>\n",
              "      <td>9.19</td>\n",
              "      <td>9.110759</td>\n",
              "    </tr>\n",
              "    <tr>\n",
              "      <th>2999</th>\n",
              "      <td>Steins;Gate</td>\n",
              "      <td>Thriller, Sci-Fi</td>\n",
              "      <td>563857</td>\n",
              "      <td>9.14</td>\n",
              "      <td>9.074560</td>\n",
              "    </tr>\n",
              "    <tr>\n",
              "      <th>418</th>\n",
              "      <td>Hunter x Hunter (2011)</td>\n",
              "      <td>Action, Adventure, Super Power, Shounen</td>\n",
              "      <td>403377</td>\n",
              "      <td>9.11</td>\n",
              "      <td>9.020221</td>\n",
              "    </tr>\n",
              "    <tr>\n",
              "      <th>6572</th>\n",
              "      <td>Koe no Katachi</td>\n",
              "      <td>Drama, School, Shounen</td>\n",
              "      <td>296261</td>\n",
              "      <td>9.04</td>\n",
              "      <td>8.921936</td>\n",
              "    </tr>\n",
              "    <tr>\n",
              "      <th>2783</th>\n",
              "      <td>Clannad: After Story</td>\n",
              "      <td>Slice of Life, Comedy, Supernatural, Drama, Ro...</td>\n",
              "      <td>363239</td>\n",
              "      <td>9.01</td>\n",
              "      <td>8.913981</td>\n",
              "    </tr>\n",
              "    <tr>\n",
              "      <th>7403</th>\n",
              "      <td>Code Geass: Hangyaku no Lelouch R2</td>\n",
              "      <td>Action, Military, Sci-Fi, Super Power, Drama, ...</td>\n",
              "      <td>543904</td>\n",
              "      <td>8.95</td>\n",
              "      <td>8.886511</td>\n",
              "    </tr>\n",
              "    <tr>\n",
              "      <th>7105</th>\n",
              "      <td>Sen to Chihiro no Kamikakushi</td>\n",
              "      <td>Adventure, Supernatural, Drama</td>\n",
              "      <td>498602</td>\n",
              "      <td>8.92</td>\n",
              "      <td>8.851623</td>\n",
              "    </tr>\n",
              "    <tr>\n",
              "      <th>11640</th>\n",
              "      <td>Shigatsu wa Kimi no Uso</td>\n",
              "      <td>Drama, Music, Romance, School, Shounen</td>\n",
              "      <td>413527</td>\n",
              "      <td>8.88</td>\n",
              "      <td>8.799152</td>\n",
              "    </tr>\n",
              "    <tr>\n",
              "      <th>6511</th>\n",
              "      <td>Haikyuu!!: Karasuno Koukou VS Shiratorizawa Ga...</td>\n",
              "      <td>Comedy, Sports, Drama, School, Shounen</td>\n",
              "      <td>157934</td>\n",
              "      <td>8.99</td>\n",
              "      <td>8.779850</td>\n",
=======
              "      <th>9406</th>\n",
              "      <td>5813</td>\n",
              "      <td>Urashima Tarou (1931)</td>\n",
              "      <td>Taro Urashima</td>\n",
              "      <td>浦島太郎</td>\n",
              "      <td>Urashima Taro</td>\n",
              "      <td>https://myanimelist.cdn-dena.com/images/anime/...</td>\n",
              "      <td>Movie</td>\n",
              "      <td>Other</td>\n",
              "      <td>1</td>\n",
              "      <td>Finished Airing</td>\n",
              "      <td>False</td>\n",
              "      <td>1931</td>\n",
              "      <td>{'from': None, 'to': None}</td>\n",
              "      <td>1 min.</td>\n",
              "      <td>G - All Ages</td>\n",
              "      <td>4.56</td>\n",
              "      <td>690</td>\n",
              "      <td>9341.0</td>\n",
              "      <td>8006</td>\n",
              "      <td>1153</td>\n",
              "      <td>2</td>\n",
              "      <td>NaN</td>\n",
              "      <td>NaN</td>\n",
              "      <td>NaN</td>\n",
              "      <td>{'Alternative version': [{'mal_id': 7485, 'typ...</td>\n",
              "      <td>NaN</td>\n",
              "      <td>NaN</td>\n",
              "      <td>NaN</td>\n",
              "      <td>Action</td>\n",
              "      <td>[]</td>\n",
              "      <td>[]</td>\n",
              "    </tr>\n",
              "    <tr>\n",
              "      <th>10699</th>\n",
              "      <td>9499</td>\n",
              "      <td>Dokushin Apartment Dokudamisou</td>\n",
              "      <td>NaN</td>\n",
              "      <td>独身アパートどくだみ荘</td>\n",
              "      <td>Single Appartment Dokudami-sou</td>\n",
              "      <td>https://myanimelist.cdn-dena.com/images/anime/...</td>\n",
              "      <td>OVA</td>\n",
              "      <td>Unknown</td>\n",
              "      <td>3</td>\n",
              "      <td>Finished Airing</td>\n",
              "      <td>False</td>\n",
              "      <td>Dec 1, 1989 to Apr 1, 1990</td>\n",
              "      <td>{'from': '1989-12-01', 'to': '1990-04-01'}</td>\n",
              "      <td>55 min. per ep.</td>\n",
              "      <td>R+ - Mild Nudity</td>\n",
              "      <td>5.57</td>\n",
              "      <td>46</td>\n",
              "      <td>9993.0</td>\n",
              "      <td>10448</td>\n",
              "      <td>302</td>\n",
              "      <td>3</td>\n",
              "      <td>NaN</td>\n",
              "      <td>NaN</td>\n",
              "      <td>NaN</td>\n",
              "      <td>{'Adaptation': [{'mal_id': 23010, 'type': 'man...</td>\n",
              "      <td>Nichiei Agency</td>\n",
              "      <td>NaN</td>\n",
              "      <td>NaN</td>\n",
              "      <td>Ecchi, Comedy</td>\n",
              "      <td>[]</td>\n",
              "      <td>[]</td>\n",
              "    </tr>\n",
              "    <tr>\n",
              "      <th>6733</th>\n",
              "      <td>21967</td>\n",
              "      <td>Sore Ike! Anpanman: Yousei Rinrin no Himitsu</td>\n",
              "      <td>NaN</td>\n",
              "      <td>それいけ!アンパンマン 妖精リンリンのひみつ</td>\n",
              "      <td>NaN</td>\n",
              "      <td>https://myanimelist.cdn-dena.com/images/anime/...</td>\n",
              "      <td>Movie</td>\n",
              "      <td>Unknown</td>\n",
              "      <td>1</td>\n",
              "      <td>Finished Airing</td>\n",
              "      <td>False</td>\n",
              "      <td>Jul 12, 2008</td>\n",
              "      <td>{'from': '2008-07-12', 'to': '2008-07-12'}</td>\n",
              "      <td>51 min.</td>\n",
              "      <td>PG - Children</td>\n",
              "      <td>5.79</td>\n",
              "      <td>19</td>\n",
              "      <td>12239.0</td>\n",
              "      <td>12509</td>\n",
              "      <td>123</td>\n",
              "      <td>0</td>\n",
              "      <td>NaN</td>\n",
              "      <td>NaN</td>\n",
              "      <td>NaN</td>\n",
              "      <td>{'Parent story': [{'mal_id': 1960, 'type': 'an...</td>\n",
              "      <td>Tokyo Movie Shinsha</td>\n",
              "      <td>NaN</td>\n",
              "      <td>NaN</td>\n",
              "      <td>Comedy, Fantasy, Kids</td>\n",
              "      <td>[]</td>\n",
              "      <td>[]</td>\n",
              "    </tr>\n",
              "    <tr>\n",
              "      <th>2429</th>\n",
              "      <td>17273</td>\n",
              "      <td>Hetalia: The Beautiful World Specials</td>\n",
              "      <td>NaN</td>\n",
              "      <td>ヘタリア The Beautiful World</td>\n",
              "      <td>NaN</td>\n",
              "      <td>https://myanimelist.cdn-dena.com/images/anime/...</td>\n",
              "      <td>Special</td>\n",
              "      <td>Unknown</td>\n",
              "      <td>4</td>\n",
              "      <td>Finished Airing</td>\n",
              "      <td>False</td>\n",
              "      <td>Apr 24, 2013 to Oct 30, 2013</td>\n",
              "      <td>{'from': '2013-04-24', 'to': '2013-10-30'}</td>\n",
              "      <td>5 min. per ep.</td>\n",
              "      <td>PG-13 - Teens 13 or older</td>\n",
              "      <td>7.85</td>\n",
              "      <td>4521</td>\n",
              "      <td>792.0</td>\n",
              "      <td>3453</td>\n",
              "      <td>11648</td>\n",
              "      <td>30</td>\n",
              "      <td>NaN</td>\n",
              "      <td>NaN</td>\n",
              "      <td>NaN</td>\n",
              "      <td>{'Parent story': [{'mal_id': 15195, 'type': 'a...</td>\n",
              "      <td>Frontier Works</td>\n",
              "      <td>Funimation</td>\n",
              "      <td>Studio Deen</td>\n",
              "      <td>Comedy, Historical, Parody</td>\n",
              "      <td>['\"Hetalia no Utsukushiki Sekai (ヘタリアの美しき世界)\" ...</td>\n",
              "      <td>['\"Mawaru Chikyuu Rondo (まわる地球ロンド)\" by Daisuke...</td>\n",
              "    </tr>\n",
              "    <tr>\n",
              "      <th>3741</th>\n",
              "      <td>9001</td>\n",
              "      <td>Je T&amp;#039;aime</td>\n",
              "      <td>NaN</td>\n",
              "      <td>Je t&amp;#039;aime</td>\n",
              "      <td>NaN</td>\n",
              "      <td>https://myanimelist.cdn-dena.com/images/anime/...</td>\n",
              "      <td>OVA</td>\n",
              "      <td>Unknown</td>\n",
              "      <td>1</td>\n",
              "      <td>Finished Airing</td>\n",
              "      <td>False</td>\n",
              "      <td>Jul 6, 2010</td>\n",
              "      <td>{'from': '2010-07-06', 'to': '2010-07-06'}</td>\n",
              "      <td>11 min.</td>\n",
              "      <td>R - 17+ (violence &amp; profanity)</td>\n",
              "      <td>6.69</td>\n",
              "      <td>2405</td>\n",
              "      <td>4798.0</td>\n",
              "      <td>5027</td>\n",
              "      <td>4633</td>\n",
              "      <td>12</td>\n",
              "      <td>NaN</td>\n",
              "      <td>NaN</td>\n",
              "      <td>NaN</td>\n",
              "      <td>[]</td>\n",
              "      <td>NaN</td>\n",
              "      <td>NaN</td>\n",
              "      <td>Production I.G</td>\n",
              "      <td>Sci-Fi</td>\n",
              "      <td>[]</td>\n",
              "      <td>[]</td>\n",
>>>>>>> dad349854a23fbebba7be01f7c84f3a327e42729
              "    </tr>\n",
              "  </tbody>\n",
              "</table>\n",
              "</div>"
            ],
            "text/plain": [
<<<<<<< HEAD
              "                                                   title  \\\n",
              "2555                    Fullmetal Alchemist: Brotherhood   \n",
              "1028                                      Kimi no Na wa.   \n",
              "2999                                         Steins;Gate   \n",
              "418                               Hunter x Hunter (2011)   \n",
              "6572                                      Koe no Katachi   \n",
              "2783                                Clannad: After Story   \n",
              "7403                  Code Geass: Hangyaku no Lelouch R2   \n",
              "7105                       Sen to Chihiro no Kamikakushi   \n",
              "11640                            Shigatsu wa Kimi no Uso   \n",
              "6511   Haikyuu!!: Karasuno Koukou VS Shiratorizawa Ga...   \n",
              "\n",
              "                                                   genre  scored_by  score  \\\n",
              "2555   Action, Military, Adventure, Comedy, Drama, Ma...     733592   9.25   \n",
              "1028                Supernatural, Drama, Romance, School     471398   9.19   \n",
              "2999                                    Thriller, Sci-Fi     563857   9.14   \n",
              "418              Action, Adventure, Super Power, Shounen     403377   9.11   \n",
              "6572                              Drama, School, Shounen     296261   9.04   \n",
              "2783   Slice of Life, Comedy, Supernatural, Drama, Ro...     363239   9.01   \n",
              "7403   Action, Military, Sci-Fi, Super Power, Drama, ...     543904   8.95   \n",
              "7105                      Adventure, Supernatural, Drama     498602   8.92   \n",
              "11640             Drama, Music, Romance, School, Shounen     413527   8.88   \n",
              "6511              Comedy, Sports, Drama, School, Shounen     157934   8.99   \n",
              "\n",
              "       trusted_score  \n",
              "2555        9.197591  \n",
              "1028        9.110759  \n",
              "2999        9.074560  \n",
              "418         9.020221  \n",
              "6572        8.921936  \n",
              "2783        8.913981  \n",
              "7403        8.886511  \n",
              "7105        8.851623  \n",
              "11640       8.799152  \n",
              "6511        8.779850  "
            ]
          },
          "metadata": {},
          "execution_count": 105
=======
              "       anime_id                                         title  title_english  \\\n",
              "9406       5813                         Urashima Tarou (1931)  Taro Urashima   \n",
              "10699      9499                Dokushin Apartment Dokudamisou            NaN   \n",
              "6733      21967  Sore Ike! Anpanman: Yousei Rinrin no Himitsu            NaN   \n",
              "2429      17273         Hetalia: The Beautiful World Specials            NaN   \n",
              "3741       9001                                Je T&#039;aime            NaN   \n",
              "\n",
              "                 title_japanese                  title_synonyms  \\\n",
              "9406                       浦島太郎                   Urashima Taro   \n",
              "10699               独身アパートどくだみ荘  Single Appartment Dokudami-sou   \n",
              "6733     それいけ!アンパンマン 妖精リンリンのひみつ                             NaN   \n",
              "2429   ヘタリア The Beautiful World                             NaN   \n",
              "3741             Je t&#039;aime                             NaN   \n",
              "\n",
              "                                               image_url     type   source  \\\n",
              "9406   https://myanimelist.cdn-dena.com/images/anime/...    Movie    Other   \n",
              "10699  https://myanimelist.cdn-dena.com/images/anime/...      OVA  Unknown   \n",
              "6733   https://myanimelist.cdn-dena.com/images/anime/...    Movie  Unknown   \n",
              "2429   https://myanimelist.cdn-dena.com/images/anime/...  Special  Unknown   \n",
              "3741   https://myanimelist.cdn-dena.com/images/anime/...      OVA  Unknown   \n",
              "\n",
              "       episodes           status  airing                  aired_string  \\\n",
              "9406          1  Finished Airing   False                          1931   \n",
              "10699         3  Finished Airing   False    Dec 1, 1989 to Apr 1, 1990   \n",
              "6733          1  Finished Airing   False                  Jul 12, 2008   \n",
              "2429          4  Finished Airing   False  Apr 24, 2013 to Oct 30, 2013   \n",
              "3741          1  Finished Airing   False                   Jul 6, 2010   \n",
              "\n",
              "                                            aired         duration  \\\n",
              "9406                   {'from': None, 'to': None}           1 min.   \n",
              "10699  {'from': '1989-12-01', 'to': '1990-04-01'}  55 min. per ep.   \n",
              "6733   {'from': '2008-07-12', 'to': '2008-07-12'}          51 min.   \n",
              "2429   {'from': '2013-04-24', 'to': '2013-10-30'}   5 min. per ep.   \n",
              "3741   {'from': '2010-07-06', 'to': '2010-07-06'}          11 min.   \n",
              "\n",
              "                               rating  score  scored_by     rank  popularity  \\\n",
              "9406                     G - All Ages   4.56        690   9341.0        8006   \n",
              "10699                R+ - Mild Nudity   5.57         46   9993.0       10448   \n",
              "6733                    PG - Children   5.79         19  12239.0       12509   \n",
              "2429        PG-13 - Teens 13 or older   7.85       4521    792.0        3453   \n",
              "3741   R - 17+ (violence & profanity)   6.69       2405   4798.0        5027   \n",
              "\n",
              "       members  favorites background premiered broadcast  \\\n",
              "9406      1153          2        NaN       NaN       NaN   \n",
              "10699      302          3        NaN       NaN       NaN   \n",
              "6733       123          0        NaN       NaN       NaN   \n",
              "2429     11648         30        NaN       NaN       NaN   \n",
              "3741      4633         12        NaN       NaN       NaN   \n",
              "\n",
              "                                                 related             producer  \\\n",
              "9406   {'Alternative version': [{'mal_id': 7485, 'typ...                  NaN   \n",
              "10699  {'Adaptation': [{'mal_id': 23010, 'type': 'man...       Nichiei Agency   \n",
              "6733   {'Parent story': [{'mal_id': 1960, 'type': 'an...  Tokyo Movie Shinsha   \n",
              "2429   {'Parent story': [{'mal_id': 15195, 'type': 'a...       Frontier Works   \n",
              "3741                                                  []                  NaN   \n",
              "\n",
              "         licensor          studio                       genre  \\\n",
              "9406          NaN             NaN                      Action   \n",
              "10699         NaN             NaN               Ecchi, Comedy   \n",
              "6733          NaN             NaN       Comedy, Fantasy, Kids   \n",
              "2429   Funimation     Studio Deen  Comedy, Historical, Parody   \n",
              "3741          NaN  Production I.G                      Sci-Fi   \n",
              "\n",
              "                                           opening_theme  \\\n",
              "9406                                                  []   \n",
              "10699                                                 []   \n",
              "6733                                                  []   \n",
              "2429   ['\"Hetalia no Utsukushiki Sekai (ヘタリアの美しき世界)\" ...   \n",
              "3741                                                  []   \n",
              "\n",
              "                                            ending_theme  \n",
              "9406                                                  []  \n",
              "10699                                                 []  \n",
              "6733                                                  []  \n",
              "2429   ['\"Mawaru Chikyuu Rondo (まわる地球ロンド)\" by Daisuke...  \n",
              "3741                                                  []  "
            ]
          },
          "execution_count": 8,
          "metadata": {},
          "output_type": "execute_result"
        }
      ],
      "source": [
        "aniList.sample(5)"
      ]
    },
    {
      "cell_type": "code",
      "execution_count": 9,
      "metadata": {},
      "outputs": [
        {
          "name": "stdout",
          "output_type": "stream",
          "text": [
            "Range of ratings vary between: 0 to 1009477\n"
          ]
>>>>>>> dad349854a23fbebba7be01f7c84f3a327e42729
        }
      ]
    },
    {
<<<<<<< HEAD
      "cell_type": "markdown",
=======
      "cell_type": "code",
      "execution_count": 10,
>>>>>>> dad349854a23fbebba7be01f7c84f3a327e42729
      "metadata": {
        "id": "pleaNDF1iN-c"
      },
      "source": [
        "EDA 1"
      ]
    },
    {
      "cell_type": "code",
<<<<<<< HEAD
=======
      "execution_count": 11,
>>>>>>> dad349854a23fbebba7be01f7c84f3a327e42729
      "metadata": {
        "colab": {
          "base_uri": "https://localhost:8080/",
          "height": 893
        },
        "id": "knlDbjo-gkCV",
        "outputId": "965bf089-4819-49a4-a19b-5d4c7157c0a2"
      },
<<<<<<< HEAD
      "source": [
        "pop=lists_animes[['title', 'scored_by', 'score', 'trusted_score']].head(10)\n",
        "plt.figure(figsize=(20,15))\n",
        "sns.barplot(pop['trusted_score'],pop['title'])\n",
        "plt.title('Anime Recomendation')\n",
        "plt.xlabel('Popularity Score')\n",
        "plt.show()\n",
        "\n",
        "# ตัวอย่าง eda 1"
      ],
      "execution_count": null,
=======
      "outputs": [
        {
          "data": {
            "text/plain": [
              "(14478, 5)"
            ]
          },
          "execution_count": 11,
          "metadata": {},
          "output_type": "execute_result"
        }
      ],
      "source": [
        "rating1.shape"
      ]
    },
    {
      "cell_type": "code",
      "execution_count": 12,
      "metadata": {
        "colab": {
          "base_uri": "https://localhost:8080/"
        },
        "id": "rLVKHWYGeS_J",
        "outputId": "ac1d1948-01fe-40d1-ca7b-e09f5afe53cb"
      },
>>>>>>> dad349854a23fbebba7be01f7c84f3a327e42729
      "outputs": [
        {
          "output_type": "display_data",
          "data": {
            "image/png": "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\n",
            "text/plain": [
              "<Figure size 1440x1080 with 1 Axes>"
            ]
          },
          "metadata": {
            "needs_background": "light"
          }
        }
      ]
    },
    {
<<<<<<< HEAD
      "cell_type": "markdown",
=======
      "cell_type": "code",
      "execution_count": 13,
>>>>>>> dad349854a23fbebba7be01f7c84f3a327e42729
      "metadata": {
        "id": "5gquSKx7iKLf"
      },
      "source": [
        "EDA 2"
      ]
    },
    {
      "cell_type": "code",
<<<<<<< HEAD
=======
      "execution_count": 14,
>>>>>>> dad349854a23fbebba7be01f7c84f3a327e42729
      "metadata": {
        "colab": {
          "base_uri": "https://localhost:8080/",
          "height": 612
        },
        "id": "-pMRwazDg-FL",
        "outputId": "c848f2a0-faa1-4f7e-e921-eb3704c47f8c"
      },
      "source": [
        "sns.barplot(data=lists_animes[['title', 'scored_by', 'score', 'trusted_score']].head(10), x='title',y='trusted_score');\n",
        "plt.xticks(rotation=90)\n",
        "\n",
        "# ตัวอย่าง eda 2"
      ],
      "execution_count": null,
      "outputs": [
        {
          "output_type": "execute_result",
          "data": {
            "text/plain": [
              "(array([0, 1, 2, 3, 4, 5, 6, 7, 8, 9]),\n",
              " <a list of 10 Text major ticklabel objects>)"
            ]
          },
<<<<<<< HEAD
=======
          "execution_count": 14,
>>>>>>> dad349854a23fbebba7be01f7c84f3a327e42729
          "metadata": {},
          "execution_count": 107
        },
        {
          "output_type": "display_data",
          "data": {
            "image/png": "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\n",
            "text/plain": [
              "<Figure size 432x288 with 1 Axes>"
            ]
          },
          "metadata": {
            "needs_background": "light"
          }
        }
<<<<<<< HEAD
      ]
    },
    {
      "cell_type": "markdown",
=======
      ],
      "source": [
        "# animes having total rate count greater than 85% is considered into lists_animes\n",
        "lists_animes =rating1.copy().loc[rating1['scored_by'] >= m]\n",
        "lists_animes.shape"
      ]
    },
    {
      "cell_type": "code",
      "execution_count": 15,
      "metadata": {
        "id": "L8iP5VE4fbxU"
      },
      "outputs": [],
      "source": [
        "# Define a new feature 'score' and calculate its value with `Iighted_rating()`\n",
        "lists_animes['trusted_score'] = lists_animes.apply(Iighted_rating, axis=1)"
      ]
    },
    {
      "cell_type": "code",
      "execution_count": 16,
      "metadata": {
        "id": "GsynEEB3fwR2"
      },
      "outputs": [],
      "source": [
        "#lists_animes.head()"
      ]
    },
    {
      "cell_type": "code",
      "execution_count": 17,
>>>>>>> dad349854a23fbebba7be01f7c84f3a327e42729
      "metadata": {
        "id": "0Y9QLHwWh1uK"
      },
      "source": [
        "\n",
        "\n",
        "### **Content based Recomendation **"
      ]
    },
    {
      "cell_type": "code",
<<<<<<< HEAD
=======
      "execution_count": 18,
>>>>>>> dad349854a23fbebba7be01f7c84f3a327e42729
      "metadata": {
        "colab": {
          "base_uri": "https://localhost:8080/",
          "height": 206
        },
        "id": "y-Y3BsQEiB1I",
        "outputId": "86090f77-b7c2-4c05-a511-2de59efa9df0"
      },
      "source": [
        "lists_animes.head()"
      ],
      "execution_count": null,
      "outputs": [
        {
          "output_type": "execute_result",
          "data": {
            "text/html": [
              "<div>\n",
              "<style scoped>\n",
              "    .dataframe tbody tr th:only-of-type {\n",
              "        vertical-align: middle;\n",
              "    }\n",
              "\n",
              "    .dataframe tbody tr th {\n",
              "        vertical-align: top;\n",
              "    }\n",
              "\n",
              "    .dataframe thead th {\n",
              "        text-align: right;\n",
              "    }\n",
              "</style>\n",
              "<table border=\"1\" class=\"dataframe\">\n",
              "  <thead>\n",
              "    <tr style=\"text-align: right;\">\n",
              "      <th></th>\n",
              "      <th>anime_id</th>\n",
              "      <th>title</th>\n",
              "      <th>genre</th>\n",
              "      <th>scored_by</th>\n",
              "      <th>score</th>\n",
              "      <th>trusted_score</th>\n",
              "    </tr>\n",
              "  </thead>\n",
              "  <tbody>\n",
              "    <tr>\n",
              "      <th>2555</th>\n",
              "      <td>5114</td>\n",
              "      <td>Fullmetal Alchemist: Brotherhood</td>\n",
              "      <td>Action, Military, Adventure, Comedy, Drama, Ma...</td>\n",
              "      <td>733592</td>\n",
              "      <td>9.25</td>\n",
              "      <td>9.197591</td>\n",
              "    </tr>\n",
              "    <tr>\n",
              "      <th>1028</th>\n",
              "      <td>32281</td>\n",
              "      <td>Kimi no Na wa.</td>\n",
              "      <td>Supernatural, Drama, Romance, School</td>\n",
              "      <td>471398</td>\n",
              "      <td>9.19</td>\n",
              "      <td>9.110759</td>\n",
              "    </tr>\n",
              "    <tr>\n",
              "      <th>2999</th>\n",
              "      <td>9253</td>\n",
              "      <td>Steins;Gate</td>\n",
              "      <td>Thriller, Sci-Fi</td>\n",
              "      <td>563857</td>\n",
              "      <td>9.14</td>\n",
              "      <td>9.074560</td>\n",
              "    </tr>\n",
              "    <tr>\n",
              "      <th>418</th>\n",
              "      <td>11061</td>\n",
              "      <td>Hunter x Hunter (2011)</td>\n",
              "      <td>Action, Adventure, Super Power, Shounen</td>\n",
              "      <td>403377</td>\n",
              "      <td>9.11</td>\n",
              "      <td>9.020221</td>\n",
              "    </tr>\n",
              "    <tr>\n",
              "      <th>6572</th>\n",
              "      <td>28851</td>\n",
              "      <td>Koe no Katachi</td>\n",
              "      <td>Drama, School, Shounen</td>\n",
              "      <td>296261</td>\n",
              "      <td>9.04</td>\n",
              "      <td>8.921936</td>\n",
              "    </tr>\n",
              "  </tbody>\n",
              "</table>\n",
              "</div>"
            ],
            "text/plain": [
              "      anime_id                             title  \\\n",
              "2555      5114  Fullmetal Alchemist: Brotherhood   \n",
              "1028     32281                    Kimi no Na wa.   \n",
              "2999      9253                       Steins;Gate   \n",
              "418      11061            Hunter x Hunter (2011)   \n",
              "6572     28851                    Koe no Katachi   \n",
              "\n",
              "                                                  genre  scored_by  score  \\\n",
              "2555  Action, Military, Adventure, Comedy, Drama, Ma...     733592   9.25   \n",
              "1028               Supernatural, Drama, Romance, School     471398   9.19   \n",
              "2999                                   Thriller, Sci-Fi     563857   9.14   \n",
              "418             Action, Adventure, Super Power, Shounen     403377   9.11   \n",
              "6572                             Drama, School, Shounen     296261   9.04   \n",
              "\n",
              "      trusted_score  \n",
              "2555       9.197591  \n",
              "1028       9.110759  \n",
              "2999       9.074560  \n",
              "418        9.020221  \n",
              "6572       8.921936  "
            ]
          },
<<<<<<< HEAD
=======
          "execution_count": 18,
>>>>>>> dad349854a23fbebba7be01f7c84f3a327e42729
          "metadata": {},
          "execution_count": 108
        }
      ]
    },
    {
      "cell_type": "code",
      "metadata": {
        "id": "ZDrYN5IRnmsW"
      },
      "source": [
        "def combine_string(row):\n",
        "  res = [str(r) for r in row]\n",
        "  return ' | '.join(res)\n",
        "  # ฟังก์ชัน combine string"
      ],
      "execution_count": null,
      "outputs": []
    },
    {
      "cell_type": "code",
<<<<<<< HEAD
=======
      "execution_count": 19,
>>>>>>> dad349854a23fbebba7be01f7c84f3a327e42729
      "metadata": {
        "colab": {
          "base_uri": "https://localhost:8080/",
          "height": 660
        },
<<<<<<< HEAD
        "id": "z0b9wCl0idKn",
        "outputId": "97ef3c72-f552-4aac-c958-52cea12d37e4"
=======
        "id": "knlDbjo-gkCV",
        "outputId": "bd94fd48-2425-4cc0-bc73-fa2696c6b56d"
      },
      "outputs": [
        {
          "data": {
            "image/png": "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",
            "text/plain": [
              "<Figure size 720x360 with 1 Axes>"
            ]
          },
          "metadata": {
            "needs_background": "light"
          },
          "output_type": "display_data"
        }
      ],
      "source": [
        "pop=lists_animes[['title', 'scored_by', 'score', 'trusted_score']].head(10)\n",
        "plt.figure(figsize=(10,5))\n",
        "sns.barplot(pop['trusted_score'],pop['title'])\n",
        "plt.title('Anime Recomendation')\n",
        "plt.xlabel('Popularity Score')\n",
        "plt.show()\n",
        "\n",
        "# ตัวอย่าง eda 1"
      ]
    },
    {
      "cell_type": "markdown",
      "metadata": {
        "id": "5gquSKx7iKLf"
      },
      "source": [
        "EDA 2"
      ]
    },
    {
      "cell_type": "code",
      "execution_count": 20,
      "metadata": {
        "colab": {
          "base_uri": "https://localhost:8080/",
          "height": 612
        },
        "id": "-pMRwazDg-FL",
        "outputId": "64e7d2f9-e70e-478a-ff94-1c9872c3ce06"
      },
      "outputs": [
        {
          "data": {
            "text/plain": [
              "(array([0, 1, 2, 3, 4, 5, 6, 7, 8, 9]),\n",
              " [Text(0, 0, 'Fullmetal Alchemist: Brotherhood'),\n",
              "  Text(1, 0, 'Kimi no Na wa.'),\n",
              "  Text(2, 0, 'Steins;Gate'),\n",
              "  Text(3, 0, 'Hunter x Hunter (2011)'),\n",
              "  Text(4, 0, 'Koe no Katachi'),\n",
              "  Text(5, 0, 'Clannad: After Story'),\n",
              "  Text(6, 0, 'Code Geass: Hangyaku no Lelouch R2'),\n",
              "  Text(7, 0, 'Sen to Chihiro no Kamikakushi'),\n",
              "  Text(8, 0, 'Shigatsu wa Kimi no Uso'),\n",
              "  Text(9, 0, 'Haikyuu!!: Karasuno Koukou VS Shiratorizawa Gakuen Koukou')])"
            ]
          },
          "execution_count": 20,
          "metadata": {},
          "output_type": "execute_result"
        },
        {
          "data": {
            "image/png": "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",
            "text/plain": [
              "<Figure size 432x288 with 1 Axes>"
            ]
          },
          "metadata": {
            "needs_background": "light"
          },
          "output_type": "display_data"
        }
      ],
      "source": [
        "sns.barplot(data=lists_animes[['title', 'scored_by', 'score', 'trusted_score']].head(10), x='title',y='trusted_score');\n",
        "plt.xticks(rotation=90)\n",
        "\n",
        "# ตัวอย่าง eda 2"
      ]
    },
    {
      "cell_type": "markdown",
      "metadata": {},
      "source": []
    },
    {
      "cell_type": "markdown",
      "metadata": {
        "id": "0Y9QLHwWh1uK"
      },
      "source": [
        "\n",
        "\n",
        "### **Content based Recomendation **"
      ]
    },
    {
      "cell_type": "code",
      "execution_count": 21,
      "metadata": {
        "colab": {
          "base_uri": "https://localhost:8080/",
          "height": 206
        },
        "id": "y-Y3BsQEiB1I",
        "outputId": "f010163b-364f-416f-a281-30a320a9ea52"
      },
      "outputs": [
        {
          "data": {
            "text/html": [
              "<div>\n",
              "<style scoped>\n",
              "    .dataframe tbody tr th:only-of-type {\n",
              "        vertical-align: middle;\n",
              "    }\n",
              "\n",
              "    .dataframe tbody tr th {\n",
              "        vertical-align: top;\n",
              "    }\n",
              "\n",
              "    .dataframe thead th {\n",
              "        text-align: right;\n",
              "    }\n",
              "</style>\n",
              "<table border=\"1\" class=\"dataframe\">\n",
              "  <thead>\n",
              "    <tr style=\"text-align: right;\">\n",
              "      <th></th>\n",
              "      <th>anime_id</th>\n",
              "      <th>title</th>\n",
              "      <th>genre</th>\n",
              "      <th>scored_by</th>\n",
              "      <th>score</th>\n",
              "      <th>trusted_score</th>\n",
              "    </tr>\n",
              "  </thead>\n",
              "  <tbody>\n",
              "    <tr>\n",
              "      <th>2555</th>\n",
              "      <td>5114</td>\n",
              "      <td>Fullmetal Alchemist: Brotherhood</td>\n",
              "      <td>Action, Military, Adventure, Comedy, Drama, Ma...</td>\n",
              "      <td>733592</td>\n",
              "      <td>9.25</td>\n",
              "      <td>9.197591</td>\n",
              "    </tr>\n",
              "    <tr>\n",
              "      <th>1028</th>\n",
              "      <td>32281</td>\n",
              "      <td>Kimi no Na wa.</td>\n",
              "      <td>Supernatural, Drama, Romance, School</td>\n",
              "      <td>471398</td>\n",
              "      <td>9.19</td>\n",
              "      <td>9.110759</td>\n",
              "    </tr>\n",
              "    <tr>\n",
              "      <th>2999</th>\n",
              "      <td>9253</td>\n",
              "      <td>Steins;Gate</td>\n",
              "      <td>Thriller, Sci-Fi</td>\n",
              "      <td>563857</td>\n",
              "      <td>9.14</td>\n",
              "      <td>9.074560</td>\n",
              "    </tr>\n",
              "    <tr>\n",
              "      <th>418</th>\n",
              "      <td>11061</td>\n",
              "      <td>Hunter x Hunter (2011)</td>\n",
              "      <td>Action, Adventure, Super Power, Shounen</td>\n",
              "      <td>403377</td>\n",
              "      <td>9.11</td>\n",
              "      <td>9.020221</td>\n",
              "    </tr>\n",
              "    <tr>\n",
              "      <th>6572</th>\n",
              "      <td>28851</td>\n",
              "      <td>Koe no Katachi</td>\n",
              "      <td>Drama, School, Shounen</td>\n",
              "      <td>296261</td>\n",
              "      <td>9.04</td>\n",
              "      <td>8.921936</td>\n",
              "    </tr>\n",
              "  </tbody>\n",
              "</table>\n",
              "</div>"
            ],
            "text/plain": [
              "      anime_id                             title  \\\n",
              "2555      5114  Fullmetal Alchemist: Brotherhood   \n",
              "1028     32281                    Kimi no Na wa.   \n",
              "2999      9253                       Steins;Gate   \n",
              "418      11061            Hunter x Hunter (2011)   \n",
              "6572     28851                    Koe no Katachi   \n",
              "\n",
              "                                                  genre  scored_by  score  \\\n",
              "2555  Action, Military, Adventure, Comedy, Drama, Ma...     733592   9.25   \n",
              "1028               Supernatural, Drama, Romance, School     471398   9.19   \n",
              "2999                                   Thriller, Sci-Fi     563857   9.14   \n",
              "418             Action, Adventure, Super Power, Shounen     403377   9.11   \n",
              "6572                             Drama, School, Shounen     296261   9.04   \n",
              "\n",
              "      trusted_score  \n",
              "2555       9.197591  \n",
              "1028       9.110759  \n",
              "2999       9.074560  \n",
              "418        9.020221  \n",
              "6572       8.921936  "
            ]
          },
          "execution_count": 21,
          "metadata": {},
          "output_type": "execute_result"
        }
      ],
      "source": [
        "lists_animes.head()"
      ]
    },
    {
      "cell_type": "code",
      "execution_count": 22,
      "metadata": {
        "id": "ZDrYN5IRnmsW"
      },
      "outputs": [],
      "source": [
        "def combine_string(row):\n",
        "  res = [str(r) for r in row]\n",
        "  return ' | '.join(res)\n",
        "  # ฟังก์ชัน combine string"
      ]
    },
    {
      "cell_type": "code",
      "execution_count": 23,
      "metadata": {
        "colab": {
          "base_uri": "https://localhost:8080/",
          "height": 660
        },
        "id": "z0b9wCl0idKn",
        "outputId": "381a9c8b-0e76-4221-d41a-bf15b91ff0bb"
>>>>>>> dad349854a23fbebba7be01f7c84f3a327e42729
      },
      "source": [
        "data3=aniList.copy()\n",
        "\n",
        "cb = ['genre','type','episodes'] # \n",
        "\n",
        "data3['describe'] = data3[cb].apply(combine_string,axis = 1)\n",
        "data3['describe'].fillna(' ')\n",
        "data3.head()\n",
        "\n",
        "# สร้าง dataset ใหม่ ชื่อ data3 และเพิ่ม column ใหม่คือ describe ซึ่งเอา genre type episodes มาผสมกัน\n",
        "\n",
        "# considering the anime content\n",
        "#data3['describe']=data3['genre'],data3['type'],data3['episodes']\n",
        "#data3['describe'].fillna(' ')\n",
        "#data3.head()"
      ],
      "execution_count": null,
      "outputs": [
        {
          "output_type": "execute_result",
          "data": {
            "text/html": [
              "<div>\n",
              "<style scoped>\n",
              "    .dataframe tbody tr th:only-of-type {\n",
              "        vertical-align: middle;\n",
              "    }\n",
              "\n",
              "    .dataframe tbody tr th {\n",
              "        vertical-align: top;\n",
              "    }\n",
              "\n",
              "    .dataframe thead th {\n",
              "        text-align: right;\n",
              "    }\n",
              "</style>\n",
              "<table border=\"1\" class=\"dataframe\">\n",
              "  <thead>\n",
              "    <tr style=\"text-align: right;\">\n",
              "      <th></th>\n",
              "      <th>anime_id</th>\n",
              "      <th>title</th>\n",
              "      <th>title_english</th>\n",
              "      <th>title_japanese</th>\n",
              "      <th>title_synonyms</th>\n",
              "      <th>image_url</th>\n",
              "      <th>type</th>\n",
              "      <th>source</th>\n",
              "      <th>episodes</th>\n",
              "      <th>status</th>\n",
              "      <th>airing</th>\n",
              "      <th>aired_string</th>\n",
              "      <th>aired</th>\n",
              "      <th>duration</th>\n",
              "      <th>rating</th>\n",
              "      <th>score</th>\n",
              "      <th>scored_by</th>\n",
              "      <th>rank</th>\n",
              "      <th>popularity</th>\n",
              "      <th>members</th>\n",
              "      <th>favorites</th>\n",
              "      <th>background</th>\n",
              "      <th>premiered</th>\n",
              "      <th>broadcast</th>\n",
              "      <th>related</th>\n",
              "      <th>producer</th>\n",
              "      <th>licensor</th>\n",
              "      <th>studio</th>\n",
              "      <th>genre</th>\n",
              "      <th>opening_theme</th>\n",
              "      <th>ending_theme</th>\n",
              "      <th>describe</th>\n",
              "    </tr>\n",
              "  </thead>\n",
              "  <tbody>\n",
              "    <tr>\n",
              "      <th>0</th>\n",
              "      <td>11013</td>\n",
              "      <td>Inu x Boku SS</td>\n",
              "      <td>Inu X Boku Secret Service</td>\n",
              "      <td>妖狐×僕SS</td>\n",
              "      <td>Youko x Boku SS</td>\n",
              "      <td>https://myanimelist.cdn-dena.com/images/anime/...</td>\n",
              "      <td>TV</td>\n",
              "      <td>Manga</td>\n",
              "      <td>12</td>\n",
              "      <td>Finished Airing</td>\n",
              "      <td>False</td>\n",
              "      <td>Jan 13, 2012 to Mar 30, 2012</td>\n",
              "      <td>{'from': '2012-01-13', 'to': '2012-03-30'}</td>\n",
              "      <td>24 min. per ep.</td>\n",
              "      <td>PG-13 - Teens 13 or older</td>\n",
              "      <td>7.63</td>\n",
              "      <td>139250</td>\n",
              "      <td>1274.0</td>\n",
              "      <td>231</td>\n",
              "      <td>283882</td>\n",
              "      <td>2809</td>\n",
              "      <td>Inu x Boku SS was licensed by Sentai Filmworks...</td>\n",
              "      <td>Winter 2012</td>\n",
              "      <td>Fridays at Unknown</td>\n",
              "      <td>{'Adaptation': [{'mal_id': 17207, 'type': 'man...</td>\n",
              "      <td>Aniplex, Square Enix, Mainichi Broadcasting Sy...</td>\n",
              "      <td>Sentai Filmworks</td>\n",
              "      <td>David Production</td>\n",
              "      <td>Comedy, Supernatural, Romance, Shounen</td>\n",
              "      <td>['\"Nirvana\" by MUCC']</td>\n",
              "      <td>['#1: \"Nirvana\" by MUCC (eps 1, 11-12)', '#2: ...</td>\n",
              "      <td>Comedy, Supernatural, Romance, Shounen | TV | 12</td>\n",
              "    </tr>\n",
              "    <tr>\n",
              "      <th>1</th>\n",
              "      <td>2104</td>\n",
              "      <td>Seto no Hanayome</td>\n",
              "      <td>My Bride is a Mermaid</td>\n",
              "      <td>瀬戸の花嫁</td>\n",
              "      <td>The Inland Sea Bride</td>\n",
              "      <td>https://myanimelist.cdn-dena.com/images/anime/...</td>\n",
              "      <td>TV</td>\n",
              "      <td>Manga</td>\n",
              "      <td>26</td>\n",
              "      <td>Finished Airing</td>\n",
              "      <td>False</td>\n",
              "      <td>Apr 2, 2007 to Oct 1, 2007</td>\n",
              "      <td>{'from': '2007-04-02', 'to': '2007-10-01'}</td>\n",
              "      <td>24 min. per ep.</td>\n",
              "      <td>PG-13 - Teens 13 or older</td>\n",
              "      <td>7.89</td>\n",
              "      <td>91206</td>\n",
              "      <td>727.0</td>\n",
              "      <td>366</td>\n",
              "      <td>204003</td>\n",
              "      <td>2579</td>\n",
              "      <td>NaN</td>\n",
              "      <td>Spring 2007</td>\n",
              "      <td>Unknown</td>\n",
              "      <td>{'Adaptation': [{'mal_id': 759, 'type': 'manga...</td>\n",
              "      <td>TV Tokyo, AIC, Square Enix, Sotsu</td>\n",
              "      <td>Funimation</td>\n",
              "      <td>Gonzo</td>\n",
              "      <td>Comedy, Parody, Romance, School, Shounen</td>\n",
              "      <td>['\"Romantic summer\" by SUN&amp;LUNAR']</td>\n",
              "      <td>['#1: \"Ashita e no Hikari (明日への光)\" by Asuka Hi...</td>\n",
              "      <td>Comedy, Parody, Romance, School, Shounen | TV ...</td>\n",
              "    </tr>\n",
              "    <tr>\n",
              "      <th>2</th>\n",
              "      <td>5262</td>\n",
              "      <td>Shugo Chara!! Doki</td>\n",
              "      <td>Shugo Chara!! Doki</td>\n",
              "      <td>しゅごキャラ！！どきっ</td>\n",
              "      <td>Shugo Chara Ninenme, Shugo Chara! Second Year</td>\n",
              "      <td>https://myanimelist.cdn-dena.com/images/anime/...</td>\n",
              "      <td>TV</td>\n",
              "      <td>Manga</td>\n",
              "      <td>51</td>\n",
              "      <td>Finished Airing</td>\n",
              "      <td>False</td>\n",
              "      <td>Oct 4, 2008 to Sep 25, 2009</td>\n",
              "      <td>{'from': '2008-10-04', 'to': '2009-09-25'}</td>\n",
              "      <td>24 min. per ep.</td>\n",
              "      <td>PG - Children</td>\n",
              "      <td>7.55</td>\n",
              "      <td>37129</td>\n",
              "      <td>1508.0</td>\n",
              "      <td>1173</td>\n",
              "      <td>70127</td>\n",
              "      <td>802</td>\n",
              "      <td>NaN</td>\n",
              "      <td>Fall 2008</td>\n",
              "      <td>Unknown</td>\n",
              "      <td>{'Adaptation': [{'mal_id': 101, 'type': 'manga...</td>\n",
              "      <td>TV Tokyo, Sotsu</td>\n",
              "      <td>NaN</td>\n",
              "      <td>Satelight</td>\n",
              "      <td>Comedy, Magic, School, Shoujo</td>\n",
              "      <td>['#1: \"Minna no Tamago (みんなのたまご)\" by Shugo Cha...</td>\n",
              "      <td>['#1: \"Rottara Rottara (ロッタラ ロッタラ)\" by Buono! ...</td>\n",
              "      <td>Comedy, Magic, School, Shoujo | TV | 51</td>\n",
              "    </tr>\n",
              "    <tr>\n",
              "      <th>3</th>\n",
              "      <td>721</td>\n",
              "      <td>Princess Tutu</td>\n",
              "      <td>Princess Tutu</td>\n",
              "      <td>プリンセスチュチュ</td>\n",
              "      <td>NaN</td>\n",
              "      <td>https://myanimelist.cdn-dena.com/images/anime/...</td>\n",
              "      <td>TV</td>\n",
              "      <td>Original</td>\n",
              "      <td>38</td>\n",
              "      <td>Finished Airing</td>\n",
              "      <td>False</td>\n",
              "      <td>Aug 16, 2002 to May 23, 2003</td>\n",
              "      <td>{'from': '2002-08-16', 'to': '2003-05-23'}</td>\n",
              "      <td>16 min. per ep.</td>\n",
              "      <td>PG-13 - Teens 13 or older</td>\n",
              "      <td>8.21</td>\n",
              "      <td>36501</td>\n",
              "      <td>307.0</td>\n",
              "      <td>916</td>\n",
              "      <td>93312</td>\n",
              "      <td>3344</td>\n",
              "      <td>Princess Tutu aired in two parts. The first pa...</td>\n",
              "      <td>Summer 2002</td>\n",
              "      <td>Fridays at Unknown</td>\n",
              "      <td>{'Adaptation': [{'mal_id': 1581, 'type': 'mang...</td>\n",
              "      <td>Memory-Tech, GANSIS, Marvelous AQL</td>\n",
              "      <td>ADV Films</td>\n",
              "      <td>Hal Film Maker</td>\n",
              "      <td>Comedy, Drama, Magic, Romance, Fantasy</td>\n",
              "      <td>['\"Morning Grace\" by Ritsuko Okazaki']</td>\n",
              "      <td>['\"Watashi No Ai Wa Chiisaikeredo\" by Ritsuko ...</td>\n",
              "      <td>Comedy, Drama, Magic, Romance, Fantasy | TV | 38</td>\n",
              "    </tr>\n",
              "    <tr>\n",
              "      <th>4</th>\n",
              "      <td>12365</td>\n",
              "      <td>Bakuman. 3rd Season</td>\n",
              "      <td>Bakuman.</td>\n",
              "      <td>バクマン。</td>\n",
              "      <td>Bakuman Season 3</td>\n",
              "      <td>https://myanimelist.cdn-dena.com/images/anime/...</td>\n",
              "      <td>TV</td>\n",
              "      <td>Manga</td>\n",
              "      <td>25</td>\n",
              "      <td>Finished Airing</td>\n",
              "      <td>False</td>\n",
              "      <td>Oct 6, 2012 to Mar 30, 2013</td>\n",
              "      <td>{'from': '2012-10-06', 'to': '2013-03-30'}</td>\n",
              "      <td>24 min. per ep.</td>\n",
              "      <td>PG-13 - Teens 13 or older</td>\n",
              "      <td>8.67</td>\n",
              "      <td>107767</td>\n",
              "      <td>50.0</td>\n",
              "      <td>426</td>\n",
              "      <td>182765</td>\n",
              "      <td>2082</td>\n",
              "      <td>NaN</td>\n",
              "      <td>Fall 2012</td>\n",
              "      <td>Unknown</td>\n",
              "      <td>{'Adaptation': [{'mal_id': 9711, 'type': 'mang...</td>\n",
              "      <td>NHK, Shueisha</td>\n",
              "      <td>NaN</td>\n",
              "      <td>J.C.Staff</td>\n",
              "      <td>Comedy, Drama, Romance, Shounen</td>\n",
              "      <td>['#1: \"Moshimo no Hanashi (もしもの話)\" by nano.RIP...</td>\n",
              "      <td>['#1: \"Pride on Everyday\" by Sphere (eps 1-13)...</td>\n",
              "      <td>Comedy, Drama, Romance, Shounen | TV | 25</td>\n",
              "    </tr>\n",
              "  </tbody>\n",
              "</table>\n",
              "</div>"
            ],
            "text/plain": [
              "   anime_id                title              title_english title_japanese  \\\n",
              "0     11013        Inu x Boku SS  Inu X Boku Secret Service         妖狐×僕SS   \n",
              "1      2104     Seto no Hanayome      My Bride is a Mermaid          瀬戸の花嫁   \n",
              "2      5262   Shugo Chara!! Doki         Shugo Chara!! Doki    しゅごキャラ！！どきっ   \n",
              "3       721        Princess Tutu              Princess Tutu      プリンセスチュチュ   \n",
              "4     12365  Bakuman. 3rd Season                   Bakuman.          バクマン。   \n",
              "\n",
              "                                  title_synonyms  \\\n",
              "0                                Youko x Boku SS   \n",
              "1                           The Inland Sea Bride   \n",
              "2  Shugo Chara Ninenme, Shugo Chara! Second Year   \n",
              "3                                            NaN   \n",
              "4                               Bakuman Season 3   \n",
              "\n",
              "                                           image_url type    source  episodes  \\\n",
              "0  https://myanimelist.cdn-dena.com/images/anime/...   TV     Manga        12   \n",
              "1  https://myanimelist.cdn-dena.com/images/anime/...   TV     Manga        26   \n",
              "2  https://myanimelist.cdn-dena.com/images/anime/...   TV     Manga        51   \n",
              "3  https://myanimelist.cdn-dena.com/images/anime/...   TV  Original        38   \n",
              "4  https://myanimelist.cdn-dena.com/images/anime/...   TV     Manga        25   \n",
              "\n",
              "            status  airing                  aired_string  \\\n",
              "0  Finished Airing   False  Jan 13, 2012 to Mar 30, 2012   \n",
              "1  Finished Airing   False    Apr 2, 2007 to Oct 1, 2007   \n",
              "2  Finished Airing   False   Oct 4, 2008 to Sep 25, 2009   \n",
              "3  Finished Airing   False  Aug 16, 2002 to May 23, 2003   \n",
              "4  Finished Airing   False   Oct 6, 2012 to Mar 30, 2013   \n",
              "\n",
              "                                        aired         duration  \\\n",
              "0  {'from': '2012-01-13', 'to': '2012-03-30'}  24 min. per ep.   \n",
              "1  {'from': '2007-04-02', 'to': '2007-10-01'}  24 min. per ep.   \n",
              "2  {'from': '2008-10-04', 'to': '2009-09-25'}  24 min. per ep.   \n",
              "3  {'from': '2002-08-16', 'to': '2003-05-23'}  16 min. per ep.   \n",
              "4  {'from': '2012-10-06', 'to': '2013-03-30'}  24 min. per ep.   \n",
              "\n",
              "                      rating  score  scored_by    rank  popularity  members  \\\n",
              "0  PG-13 - Teens 13 or older   7.63     139250  1274.0         231   283882   \n",
              "1  PG-13 - Teens 13 or older   7.89      91206   727.0         366   204003   \n",
              "2              PG - Children   7.55      37129  1508.0        1173    70127   \n",
              "3  PG-13 - Teens 13 or older   8.21      36501   307.0         916    93312   \n",
              "4  PG-13 - Teens 13 or older   8.67     107767    50.0         426   182765   \n",
              "\n",
              "   favorites                                         background    premiered  \\\n",
              "0       2809  Inu x Boku SS was licensed by Sentai Filmworks...  Winter 2012   \n",
              "1       2579                                                NaN  Spring 2007   \n",
              "2        802                                                NaN    Fall 2008   \n",
              "3       3344  Princess Tutu aired in two parts. The first pa...  Summer 2002   \n",
              "4       2082                                                NaN    Fall 2012   \n",
              "\n",
              "            broadcast                                            related  \\\n",
              "0  Fridays at Unknown  {'Adaptation': [{'mal_id': 17207, 'type': 'man...   \n",
              "1             Unknown  {'Adaptation': [{'mal_id': 759, 'type': 'manga...   \n",
              "2             Unknown  {'Adaptation': [{'mal_id': 101, 'type': 'manga...   \n",
              "3  Fridays at Unknown  {'Adaptation': [{'mal_id': 1581, 'type': 'mang...   \n",
              "4             Unknown  {'Adaptation': [{'mal_id': 9711, 'type': 'mang...   \n",
              "\n",
              "                                            producer          licensor  \\\n",
              "0  Aniplex, Square Enix, Mainichi Broadcasting Sy...  Sentai Filmworks   \n",
              "1                  TV Tokyo, AIC, Square Enix, Sotsu        Funimation   \n",
              "2                                    TV Tokyo, Sotsu               NaN   \n",
              "3                 Memory-Tech, GANSIS, Marvelous AQL         ADV Films   \n",
              "4                                      NHK, Shueisha               NaN   \n",
              "\n",
              "             studio                                     genre  \\\n",
              "0  David Production    Comedy, Supernatural, Romance, Shounen   \n",
              "1             Gonzo  Comedy, Parody, Romance, School, Shounen   \n",
              "2         Satelight             Comedy, Magic, School, Shoujo   \n",
              "3    Hal Film Maker    Comedy, Drama, Magic, Romance, Fantasy   \n",
              "4         J.C.Staff           Comedy, Drama, Romance, Shounen   \n",
              "\n",
              "                                       opening_theme  \\\n",
              "0                              ['\"Nirvana\" by MUCC']   \n",
              "1                 ['\"Romantic summer\" by SUN&LUNAR']   \n",
              "2  ['#1: \"Minna no Tamago (みんなのたまご)\" by Shugo Cha...   \n",
              "3             ['\"Morning Grace\" by Ritsuko Okazaki']   \n",
              "4  ['#1: \"Moshimo no Hanashi (もしもの話)\" by nano.RIP...   \n",
              "\n",
              "                                        ending_theme  \\\n",
              "0  ['#1: \"Nirvana\" by MUCC (eps 1, 11-12)', '#2: ...   \n",
              "1  ['#1: \"Ashita e no Hikari (明日への光)\" by Asuka Hi...   \n",
              "2  ['#1: \"Rottara Rottara (ロッタラ ロッタラ)\" by Buono! ...   \n",
              "3  ['\"Watashi No Ai Wa Chiisaikeredo\" by Ritsuko ...   \n",
              "4  ['#1: \"Pride on Everyday\" by Sphere (eps 1-13)...   \n",
              "\n",
              "                                            describe  \n",
              "0   Comedy, Supernatural, Romance, Shounen | TV | 12  \n",
              "1  Comedy, Parody, Romance, School, Shounen | TV ...  \n",
              "2            Comedy, Magic, School, Shoujo | TV | 51  \n",
              "3   Comedy, Drama, Magic, Romance, Fantasy | TV | 38  \n",
              "4          Comedy, Drama, Romance, Shounen | TV | 25  "
            ]
          },
<<<<<<< HEAD
=======
          "execution_count": 23,
>>>>>>> dad349854a23fbebba7be01f7c84f3a327e42729
          "metadata": {},
          "execution_count": 110
        }
      ]
    },
    {
      "cell_type": "code",
<<<<<<< HEAD
=======
      "execution_count": 24,
>>>>>>> dad349854a23fbebba7be01f7c84f3a327e42729
      "metadata": {
        "id": "VJ8ngas2n604"
      },
      "source": [
        "data3.drop_duplicates(subset=['title'],inplace=True)\n",
        "# ดรอปตัวซ้ำ"
      ],
      "execution_count": null,
      "outputs": []
    },
    {
      "cell_type": "code",
<<<<<<< HEAD
=======
      "execution_count": 25,
>>>>>>> dad349854a23fbebba7be01f7c84f3a327e42729
      "metadata": {
        "colab": {
          "base_uri": "https://localhost:8080/"
        },
        "id": "53LixC0BoBiw",
        "outputId": "08cf5d4a-b709-4215-94cd-c60fbcad7681"
      },
      "source": [
        "data3.shape\n",
        "# row, col check"
      ],
      "execution_count": null,
      "outputs": [
        {
          "output_type": "execute_result",
          "data": {
            "text/plain": [
              "(14477, 32)"
            ]
          },
<<<<<<< HEAD
=======
          "execution_count": 25,
>>>>>>> dad349854a23fbebba7be01f7c84f3a327e42729
          "metadata": {},
          "execution_count": 112
        }
      ]
    },
    {
      "cell_type": "code",
<<<<<<< HEAD
=======
      "execution_count": 26,
>>>>>>> dad349854a23fbebba7be01f7c84f3a327e42729
      "metadata": {
        "id": "p5OdaENXoDbx"
      },
      "source": [
        "data3.reset_index(drop=True,inplace=True)"
      ],
      "execution_count": null,
      "outputs": []
    },
    {
      "cell_type": "code",
<<<<<<< HEAD
=======
      "execution_count": 27,
>>>>>>> dad349854a23fbebba7be01f7c84f3a327e42729
      "metadata": {
        "colab": {
          "base_uri": "https://localhost:8080/"
        },
        "id": "QHiZZgHHoJJR",
        "outputId": "e764908e-d36c-484d-8328-b8da54c2a764"
      },
      "source": [
        "tf = TfidfVectorizer(ngram_range=(1,2), stop_words='english')\n",
        "tf_matrix = tf.fit_transform(data3['describe'])\n",
        "tf_matrix.shape"
      ],
      "execution_count": null,
      "outputs": [
        {
          "output_type": "execute_result",
          "data": {
            "text/plain": [
              "(14477, 1654)"
            ]
          },
<<<<<<< HEAD
=======
          "execution_count": 27,
>>>>>>> dad349854a23fbebba7be01f7c84f3a327e42729
          "metadata": {},
          "execution_count": 114
        }
      ]
    },
    {
      "cell_type": "code",
<<<<<<< HEAD
=======
      "execution_count": 28,
>>>>>>> dad349854a23fbebba7be01f7c84f3a327e42729
      "metadata": {
        "id": "cvEXHMraoQSZ",
<<<<<<< HEAD
=======
        "outputId": "9a3effe1-6e83-4c9f-867d-0c41a6c83345"
      },
      "outputs": [
        {
          "data": {
            "text/plain": [
              "(14477, 14477)"
            ]
          },
          "execution_count": 28,
          "metadata": {},
          "output_type": "execute_result"
        }
      ],
      "source": [
        "# ตัวแปรพวก TfidfVectorizer  ,linear_kernel ,cosine_similarity คืออัลกอริทึมการหาค่าเฉลี่ยความถี่ของตัวอักษรภาษา eng ต่างๆในข้อมูล \n",
        "\n",
        "\n",
        "#simil = linear_kernel(tf_matrix, tf_matrix) # คล้ายๆกัน ไม่รู้ต่างกันยังไง\n",
        "simil = cosine_similarity(tf_matrix,tf_matrix) # คล้ายๆกัน ไม่รู้ต่างกันยังไง ใช้ได้สองแบบ\n",
        "\n",
        "simil.shape"
      ]
    },
    {
      "cell_type": "code",
      "execution_count": 29,
      "metadata": {
        "id": "DHaTub8XoQVW"
      },
      "outputs": [],
      "source": [
        "id=data3['anime_id'].values\n",
        "\n",
        "\n",
        "\n",
        "simil = pd.DataFrame(simil, index=id, columns=id)\n",
        "\n",
        "simil.columns = data3['title']\n",
        "\n",
        "simil['anime_name'] = data3['title'].values\n",
        "\n",
        "#  คำนวณค่าเฉลี่ยต่างๆจาก algo TfidfVectorizer"
      ]
    },
    {
      "cell_type": "code",
      "execution_count": 30,
      "metadata": {
>>>>>>> dad349854a23fbebba7be01f7c84f3a327e42729
        "colab": {
          "base_uri": "https://localhost:8080/"
        },
        "outputId": "eeef6a8e-ee4b-45a2-ab38-9c3adcfdb89c"
      },
      "source": [
        "# ตัวแปรพวก TfidfVectorizer  ,linear_kernel ,cosine_similarity คืออัลกอริทึมการหาค่าเฉลี่ยความถี่ของตัวอักษรภาษา eng ต่างๆในข้อมูล \n",
        "\n",
        "\n",
        "#simil = linear_kernel(tf_matrix, tf_matrix) # คล้ายๆกัน ไม่รู้ต่างกันยังไง\n",
        "simil = cosine_similarity(tf_matrix,tf_matrix) # คล้ายๆกัน ไม่รู้ต่างกันยังไง ใช้ได้สองแบบ\n",
        "\n",
        "simil.shape"
      ],
      "execution_count": null,
      "outputs": [
        {
          "output_type": "execute_result",
          "data": {
            "text/plain": [
              "(14477, 14477)"
            ]
          },
<<<<<<< HEAD
=======
          "execution_count": 30,
>>>>>>> dad349854a23fbebba7be01f7c84f3a327e42729
          "metadata": {},
          "execution_count": 115
        }
      ]
    },
    {
      "cell_type": "code",
<<<<<<< HEAD
      "metadata": {
        "id": "DHaTub8XoQVW"
      },
      "source": [
        "id = data3['anime_id'].values\n",
        "\n",
        "\n",
        "\n",
        "simil = pd.DataFrame(simil, index=id, columns=id+1)\n",
        "\n",
        "simil.columns = data3['title']\n",
        "\n",
        "simil['anime_name'] = data3['title'].values\n",
        "#simil['genre'] = data3['genre'].values\n",
        "#  คำนวณค่าเฉลี่ยต่างๆจาก algo TfidfVectorizer"
      ],
      "execution_count": null,
      "outputs": []
    },
    {
      "cell_type": "code",
=======
      "execution_count": 31,
>>>>>>> dad349854a23fbebba7be01f7c84f3a327e42729
      "metadata": {
        "colab": {
          "base_uri": "https://localhost:8080/"
        },
        "id": "JrthqHYFvV4n",
        "outputId": "f1980b92-34cf-486f-c402-6b17e50a0756"
      },
      "source": [
        "print(id)"
      ],
      "execution_count": null,
      "outputs": [
        {
          "output_type": "stream",
          "name": "stdout",
          "text": [
            "[11013  2104  5262 ... 37897 34193 37908]\n"
          ]
        }
      ]
    },
    {
      "cell_type": "code",
      "metadata": {
        "id": "PPHAwFDI9Uix"
      },
      "source": [
        "simil.head()"
      ],
      "execution_count": null,
      "outputs": []
    },
    {
      "cell_type": "markdown",
      "metadata": {
        "id": "DoMYoNMCrDzV"
      },
      "source": [
        ":11013          Inu x Boku SS\n",
        "2104        Seto no Hanayome\n",
        "5262      Shugo Chara!! Doki\n",
        "721            Princess Tutu\n",
        "12365    Bakuman. 3rd Season"
      ]
    },
    {
      "cell_type": "code",
      "metadata": {
        "colab": {
          "base_uri": "https://localhost:8080/"
        },
        "id": "gfEXA8cco7rS",
        "outputId": "a4e11a60-cabf-441e-f527-5494422162de"
      },
      "source": [
        "if([simil.anime_name.value_counts()>1]==True):\n",
        "    print('There are duplicates rows')\n",
        "else:\n",
        "    print('There are no duplicate rows')\n",
        "\n",
        "# เช็คข้อมูลอีกรอบ"
      ],
      "execution_count": null,
      "outputs": [
        {
          "output_type": "stream",
          "name": "stdout",
          "text": [
            "There are no duplicate rows\n"
          ]
        }
      ]
    },
    {
      "cell_type": "code",
<<<<<<< HEAD
=======
      "execution_count": 32,
>>>>>>> dad349854a23fbebba7be01f7c84f3a327e42729
      "metadata": {
        "id": "FNFzaiabpJ0d"
      },
      "source": [
        "# โชว์รายการที่ใกล้เคียงกับชื่ออนิเมะที่กรอกโดยอิงจาก genre\n",
        "\n",
        "def content_rec(name):\n",
        "    idx = simil[simil['anime_name']==name]\n",
        "\n",
        "    #idx['genre'] = data3['genre'].values\n",
        "\n",
        "    idx = idx.drop('anime_name', axis=1).T\n",
        "\n",
        "    idx.columns = ['similar_by_score']\n",
        "\n",
        "    idx['similar_by_genre'] = data3['genre'].values\n",
        "\n",
        "    idx = idx.sort_values(by='similar_by_score', ascending=False)\n",
        "\n",
        "    return pd.DataFrame(idx.head(10))"
      ],
      "execution_count": null,
      "outputs": []
    },
    {
      "cell_type": "code",
<<<<<<< HEAD
=======
      "execution_count": 33,
>>>>>>> dad349854a23fbebba7be01f7c84f3a327e42729
      "metadata": {
        "id": "0OkPg5KupyZY",
        "colab": {
          "base_uri": "https://localhost:8080/",
          "height": 394
        },
        "outputId": "ea269ab9-e6aa-46dc-aa29-1cf661b4d03b"
      },
      "source": [
        "content_rec('Seto no Hanayome')"
      ],
      "execution_count": null,
      "outputs": [
        {
          "output_type": "execute_result",
          "data": {
            "text/html": [
              "<div>\n",
              "<style scoped>\n",
              "    .dataframe tbody tr th:only-of-type {\n",
              "        vertical-align: middle;\n",
              "    }\n",
              "\n",
              "    .dataframe tbody tr th {\n",
              "        vertical-align: top;\n",
              "    }\n",
              "\n",
              "    .dataframe thead th {\n",
              "        text-align: right;\n",
              "    }\n",
              "</style>\n",
              "<table border=\"1\" class=\"dataframe\">\n",
              "  <thead>\n",
              "    <tr style=\"text-align: right;\">\n",
              "      <th></th>\n",
              "      <th>similar_by_score</th>\n",
              "      <th>similar_by_genre</th>\n",
              "    </tr>\n",
              "    <tr>\n",
              "      <th>title</th>\n",
              "      <th></th>\n",
              "      <th></th>\n",
              "    </tr>\n",
              "  </thead>\n",
              "  <tbody>\n",
              "    <tr>\n",
<<<<<<< HEAD
              "      <th>Seto no Hanayome</th>\n",
=======
              "      <th>One Piece</th>\n",
>>>>>>> dad349854a23fbebba7be01f7c84f3a327e42729
              "      <td>1.000000</td>\n",
              "      <td>Comedy, Parody, Romance, School, Shounen</td>\n",
              "    </tr>\n",
              "    <tr>\n",
<<<<<<< HEAD
              "      <th>High School! Kimengumi (Movie)</th>\n",
              "      <td>0.753752</td>\n",
              "      <td>Action, Comedy, Parody, Romance, School, Shounen</td>\n",
              "    </tr>\n",
              "    <tr>\n",
              "      <th>Pucca (2006)</th>\n",
              "      <td>0.726020</td>\n",
              "      <td>Comedy, Parody, Romance</td>\n",
              "    </tr>\n",
              "    <tr>\n",
              "      <th>School Rumble Ni Gakki</th>\n",
              "      <td>0.712198</td>\n",
              "      <td>Comedy, Romance, School, Shounen</td>\n",
              "    </tr>\n",
              "    <tr>\n",
              "      <th>School Rumble</th>\n",
              "      <td>0.712198</td>\n",
              "      <td>Comedy, Romance, School, Shounen</td>\n",
              "    </tr>\n",
              "    <tr>\n",
              "      <th>Seto no Hanayome OVA</th>\n",
              "      <td>0.694976</td>\n",
              "      <td>Comedy, Parody, Romance, School</td>\n",
              "    </tr>\n",
              "    <tr>\n",
              "      <th>Maria†Holic Alive Special</th>\n",
              "      <td>0.679639</td>\n",
              "      <td>Comedy, Parody, Romance, School</td>\n",
              "    </tr>\n",
              "    <tr>\n",
              "      <th>Seto no Hanayome Picture Drama</th>\n",
              "      <td>0.679639</td>\n",
              "      <td>Comedy, Parody, Romance, School</td>\n",
              "    </tr>\n",
              "    <tr>\n",
              "      <th>High School! Kimengumi</th>\n",
              "      <td>0.678247</td>\n",
              "      <td>Comedy, Parody, Romance, School, Shounen</td>\n",
              "    </tr>\n",
              "    <tr>\n",
              "      <th>Sakigake!! Cromartie Koukou</th>\n",
              "      <td>0.613491</td>\n",
              "      <td>Comedy, School, Shounen</td>\n",
=======
              "      <th>One Piece: Long Ring Long Land-hen</th>\n",
              "      <td>0.900420</td>\n",
              "    </tr>\n",
              "    <tr>\n",
              "      <th>One Piece: Episode of Sabo - 3 Kyoudai no Kizuna Kiseki no Saikai to Uketsugareru Ishi</th>\n",
              "      <td>0.900420</td>\n",
              "    </tr>\n",
              "    <tr>\n",
              "      <th>One Piece: Episode of East Blue - Luffy to 4-nin no Nakama no Daibouken</th>\n",
              "      <td>0.900420</td>\n",
              "    </tr>\n",
              "    <tr>\n",
              "      <th>One Piece: Episode of Sorajima</th>\n",
              "      <td>0.900420</td>\n",
              "    </tr>\n",
              "    <tr>\n",
              "      <th>Shingeki no Kyojin OVA</th>\n",
              "      <td>0.689698</td>\n",
              "    </tr>\n",
              "    <tr>\n",
              "      <th>Shingeki no Kyojin Movie 3: Kakusei no Houkou</th>\n",
              "      <td>0.687874</td>\n",
              "    </tr>\n",
              "    <tr>\n",
              "      <th>Shingeki no Kyojin Movie 2: Jiyuu no Tsubasa</th>\n",
              "      <td>0.687874</td>\n",
              "    </tr>\n",
              "    <tr>\n",
              "      <th>One Piece Movie 3: Chinjuu-jima no Chopper Oukoku</th>\n",
              "      <td>0.644795</td>\n",
              "    </tr>\n",
              "    <tr>\n",
              "      <th>One Piece Movie 9: Episode of Chopper Plus - Fuyu ni Saku, Kiseki no Sakura</th>\n",
              "      <td>0.644795</td>\n",
>>>>>>> dad349854a23fbebba7be01f7c84f3a327e42729
              "    </tr>\n",
              "  </tbody>\n",
              "</table>\n",
              "</div>"
            ],
            "text/plain": [
<<<<<<< HEAD
              "                                similar_by_score  \\\n",
              "title                                              \n",
              "Seto no Hanayome                        1.000000   \n",
              "High School! Kimengumi (Movie)          0.753752   \n",
              "Pucca (2006)                            0.726020   \n",
              "School Rumble Ni Gakki                  0.712198   \n",
              "School Rumble                           0.712198   \n",
              "Seto no Hanayome OVA                    0.694976   \n",
              "Maria†Holic Alive Special               0.679639   \n",
              "Seto no Hanayome Picture Drama          0.679639   \n",
              "High School! Kimengumi                  0.678247   \n",
              "Sakigake!! Cromartie Koukou             0.613491   \n",
              "\n",
              "                                                                similar_by_genre  \n",
              "title                                                                             \n",
              "Seto no Hanayome                        Comedy, Parody, Romance, School, Shounen  \n",
              "High School! Kimengumi (Movie)  Action, Comedy, Parody, Romance, School, Shounen  \n",
              "Pucca (2006)                                             Comedy, Parody, Romance  \n",
              "School Rumble Ni Gakki                          Comedy, Romance, School, Shounen  \n",
              "School Rumble                                   Comedy, Romance, School, Shounen  \n",
              "Seto no Hanayome OVA                             Comedy, Parody, Romance, School  \n",
              "Maria†Holic Alive Special                        Comedy, Parody, Romance, School  \n",
              "Seto no Hanayome Picture Drama                   Comedy, Parody, Romance, School  \n",
              "High School! Kimengumi                  Comedy, Parody, Romance, School, Shounen  \n",
              "Sakigake!! Cromartie Koukou                              Comedy, School, Shounen  "
            ]
          },
=======
              "                                                    similar_anime\n",
              "title                                                            \n",
              "One Piece                                                1.000000\n",
              "One Piece: Long Ring Long Land-hen                       0.900420\n",
              "One Piece: Episode of Sabo - 3 Kyoudai no Kizun...       0.900420\n",
              "One Piece: Episode of East Blue - Luffy to 4-ni...       0.900420\n",
              "One Piece: Episode of Sorajima                           0.900420\n",
              "Shingeki no Kyojin OVA                                   0.689698\n",
              "Shingeki no Kyojin Movie 3: Kakusei no Houkou            0.687874\n",
              "Shingeki no Kyojin Movie 2: Jiyuu no Tsubasa             0.687874\n",
              "One Piece Movie 3: Chinjuu-jima no Chopper Oukoku        0.644795\n",
              "One Piece Movie 9: Episode of Chopper Plus - Fu...       0.644795"
            ]
          },
          "execution_count": 33,
>>>>>>> dad349854a23fbebba7be01f7c84f3a327e42729
          "metadata": {},
          "execution_count": 160
        }
      ]
    },
    {
      "cell_type": "code",
      "metadata": {
        "colab": {
          "base_uri": "https://localhost:8080/",
          "height": 394
        },
        "id": "T4xu4LpH1ZQn",
        "outputId": "b4a82d14-6d08-41a1-b2a8-cb75aadee789"
      },
      "source": [
<<<<<<< HEAD
        "content_rec('High School! Kimengumi (Movie)')"
      ],
      "execution_count": null,
      "outputs": [
        {
          "output_type": "execute_result",
          "data": {
            "text/html": [
              "<div>\n",
              "<style scoped>\n",
              "    .dataframe tbody tr th:only-of-type {\n",
              "        vertical-align: middle;\n",
              "    }\n",
              "\n",
              "    .dataframe tbody tr th {\n",
              "        vertical-align: top;\n",
              "    }\n",
              "\n",
              "    .dataframe thead th {\n",
              "        text-align: right;\n",
              "    }\n",
              "</style>\n",
              "<table border=\"1\" class=\"dataframe\">\n",
              "  <thead>\n",
              "    <tr style=\"text-align: right;\">\n",
              "      <th></th>\n",
              "      <th>similar_by_score</th>\n",
              "      <th>similar_by_genre</th>\n",
              "    </tr>\n",
              "    <tr>\n",
              "      <th>title</th>\n",
              "      <th></th>\n",
              "      <th></th>\n",
              "    </tr>\n",
              "  </thead>\n",
              "  <tbody>\n",
              "    <tr>\n",
              "      <th>High School! Kimengumi (Movie)</th>\n",
              "      <td>1.000000</td>\n",
              "      <td>Action, Comedy, Parody, Romance, School, Shounen</td>\n",
              "    </tr>\n",
              "    <tr>\n",
              "      <th>Seto no Hanayome</th>\n",
              "      <td>0.753752</td>\n",
              "      <td>Comedy, Parody, Romance, School, Shounen</td>\n",
              "    </tr>\n",
              "    <tr>\n",
              "      <th>Seto no Hanayome OVA</th>\n",
              "      <td>0.697358</td>\n",
              "      <td>Comedy, Parody, Romance, School</td>\n",
              "    </tr>\n",
              "    <tr>\n",
              "      <th>Seto no Hanayome Picture Drama</th>\n",
              "      <td>0.681968</td>\n",
              "      <td>Comedy, Parody, Romance, School</td>\n",
              "    </tr>\n",
              "    <tr>\n",
              "      <th>Maria†Holic Alive Special</th>\n",
              "      <td>0.681968</td>\n",
              "      <td>Comedy, Parody, Romance, School</td>\n",
              "    </tr>\n",
              "    <tr>\n",
              "      <th>Ansatsu Kyoushitsu: 365-nichi no Jikan</th>\n",
              "      <td>0.610175</td>\n",
              "      <td>Action, Comedy, School, Shounen</td>\n",
              "    </tr>\n",
              "    <tr>\n",
              "      <th>High School! Kimengumi</th>\n",
              "      <td>0.604993</td>\n",
              "      <td>Comedy, Parody, Romance, School, Shounen</td>\n",
              "    </tr>\n",
              "    <tr>\n",
              "      <th>Kishuku Gakkou no Juliet</th>\n",
              "      <td>0.566047</td>\n",
              "      <td>Action, Comedy, Romance, School, Shounen</td>\n",
              "    </tr>\n",
              "    <tr>\n",
              "      <th>Shibai Taroka</th>\n",
              "      <td>0.552672</td>\n",
              "      <td>Action, Comedy, Romance, School, Shounen</td>\n",
              "    </tr>\n",
              "    <tr>\n",
              "      <th>Ookami-san to Shichinin no Nakama-tachi</th>\n",
              "      <td>0.544391</td>\n",
              "      <td>Comedy, Parody, Romance</td>\n",
              "    </tr>\n",
              "  </tbody>\n",
              "</table>\n",
              "</div>"
            ],
            "text/plain": [
              "                                         similar_by_score  \\\n",
              "title                                                       \n",
              "High School! Kimengumi (Movie)                   1.000000   \n",
              "Seto no Hanayome                                 0.753752   \n",
              "Seto no Hanayome OVA                             0.697358   \n",
              "Seto no Hanayome Picture Drama                   0.681968   \n",
              "Maria†Holic Alive Special                        0.681968   \n",
              "Ansatsu Kyoushitsu: 365-nichi no Jikan           0.610175   \n",
              "High School! Kimengumi                           0.604993   \n",
              "Kishuku Gakkou no Juliet                         0.566047   \n",
              "Shibai Taroka                                    0.552672   \n",
              "Ookami-san to Shichinin no Nakama-tachi          0.544391   \n",
              "\n",
              "                                                                         similar_by_genre  \n",
              "title                                                                                      \n",
              "High School! Kimengumi (Movie)           Action, Comedy, Parody, Romance, School, Shounen  \n",
              "Seto no Hanayome                                 Comedy, Parody, Romance, School, Shounen  \n",
              "Seto no Hanayome OVA                                      Comedy, Parody, Romance, School  \n",
              "Seto no Hanayome Picture Drama                            Comedy, Parody, Romance, School  \n",
              "Maria†Holic Alive Special                                 Comedy, Parody, Romance, School  \n",
              "Ansatsu Kyoushitsu: 365-nichi no Jikan                    Action, Comedy, School, Shounen  \n",
              "High School! Kimengumi                           Comedy, Parody, Romance, School, Shounen  \n",
              "Kishuku Gakkou no Juliet                         Action, Comedy, Romance, School, Shounen  \n",
              "Shibai Taroka                                    Action, Comedy, Romance, School, Shounen  \n",
              "Ookami-san to Shichinin no Nakama-tachi                           Comedy, Parody, Romance  "
            ]
          },
          "metadata": {},
          "execution_count": 161
        }
=======
        "content_rec(name = 'One Piece', number = 10)"
>>>>>>> dad349854a23fbebba7be01f7c84f3a327e42729
      ]
    },
    {
      "cell_type": "code",
      "metadata": {
        "colab": {
          "base_uri": "https://localhost:8080/"
        },
        "id": "pzP52Sz83-mS",
        "outputId": "3592ddc0-7a61-4631-e38a-21c00fa533c3"
      },
      "source": [
        "!pip install gradio -q"
      ],
      "execution_count": null,
      "outputs": [
        {
          "output_type": "stream",
          "name": "stdout",
          "text": [
            "\u001b[K     |████████████████████████████████| 979 kB 31.5 MB/s \n",
            "\u001b[K     |████████████████████████████████| 1.9 MB 39.7 MB/s \n",
            "\u001b[K     |████████████████████████████████| 206 kB 55.8 MB/s \n",
            "\u001b[K     |████████████████████████████████| 961 kB 38.8 MB/s \n",
            "\u001b[K     |████████████████████████████████| 63 kB 2.5 MB/s \n",
            "\u001b[K     |████████████████████████████████| 3.6 MB 40.5 MB/s \n",
            "\u001b[?25h  Building wheel for ffmpy (setup.py) ... \u001b[?25l\u001b[?25hdone\n",
            "  Building wheel for flask-cachebuster (setup.py) ... \u001b[?25l\u001b[?25hdone\n"
          ]
        }
      ]
    },
    {
      "cell_type": "code",
      "metadata": {
        "colab": {
          "base_uri": "https://localhost:8080/",
          "height": 642
        },
        "id": "thurcrdF5NCC",
        "outputId": "26424859-8f1c-4ff0-d32b-4152e76c8a68"
      },
      "source": [
        "import gradio as gr\n",
        "iface = gr.Interface(fn=content_rec,\n",
        "                     inputs=[gr.inputs.Textbox(label='Enter Anime Name')],\n",
        "                     outputs=[gr.outputs.Textbox(label='Anime Title'),gr.outputs.Dataframe(label='Anime List')])\n",
        "iface.launch()\n",
        "## พอกันทีกับ interface งงงงงงงงงงชิบหาย"
      ],
      "execution_count": null,
      "outputs": [
        {
          "output_type": "stream",
          "name": "stdout",
          "text": [
            "Colab notebook detected. To show errors in colab notebook, set `debug=True` in `launch()`\n",
            "Running on public URL: https://35641.gradio.app\n",
            "\n",
            "This share link will expire in 72 hours. To get longer links, send an email to: support@gradio.app\n"
          ]
        },
        {
          "output_type": "display_data",
          "data": {
            "text/html": [
              "\n",
              "        <iframe\n",
              "            width=\"900\"\n",
              "            height=\"500\"\n",
              "            src=\"https://35641.gradio.app\"\n",
              "            frameborder=\"0\"\n",
              "            allowfullscreen\n",
              "        ></iframe>\n",
              "        "
            ],
            "text/plain": [
              "<IPython.lib.display.IFrame at 0x7f4ee9e40e50>"
            ]
          },
          "metadata": {}
        },
        {
          "output_type": "execute_result",
          "data": {
            "text/plain": [
              "(<Flask 'gradio.networking'>,\n",
              " 'http://127.0.0.1:7865/',\n",
              " 'https://35641.gradio.app')"
            ]
          },
          "metadata": {},
          "execution_count": 167
        }
      ]
    }
  ]
}